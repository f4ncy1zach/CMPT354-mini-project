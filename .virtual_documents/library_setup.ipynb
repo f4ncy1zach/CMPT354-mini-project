%reload_ext sql
%config SqlMagic.displaylimit = None


%sql sqlite:///library.db





%%sql
CREATE TABLE User (
    UserID INTEGER PRIMARY KEY AUTOINCREMENT,
    preference CHAR(50),
    email CHAR(50) NOT NULL UNIQUE CHECK(email LIKE '%@%.%')
);


%%sql
CREATE TABLE IF NOT EXISTS Item (
    ItemID INTEGER PRIMARY KEY AUTOINCREMENT,
    title CHAR(50) NOT NULL,
    type CHAR(50) NOT NULL,
    author CHAR(50),
    status CHAR(50)
);



%%sql
CREATE TABLE IF NOT EXISTS CD (
    ItemID INTEGER PRIMARY KEY,
    duration INTEGER NOT NULL,
    FOREIGN KEY (ItemID) REFERENCES Item (ItemID) ON DELETE CASCADE
);



%%sql
CREATE TABLE IF NOT EXISTS OnlineItem (
    ItemID INTEGER PRIMARY KEY,
    url CHAR(50) NOT NULL,
    FOREIGN KEY (ItemID) REFERENCES Item (ItemID) ON DELETE CASCADE
);



%%sql
CREATE TABLE IF NOT EXISTS Loan (
    LoanID INTEGER PRIMARY KEY AUTOINCREMENT,
    due DATE NOT NULL
);



%%sql
CREATE TABLE IF NOT EXISTS Borrows (
    UserID INTEGER NOT NULL,
    LoanID INTEGER NOT NULL,
    ItemID INTEGER NOT NULL,
    PRIMARY KEY (UserID, LoanID, ItemID),
    FOREIGN KEY (UserID) REFERENCES User (UserID) ON DELETE CASCADE,
    FOREIGN KEY (LoanID) REFERENCES Loan (LoanID) ON DELETE CASCADE,
    FOREIGN KEY (ItemID) REFERENCES Item (ItemID) ON DELETE CASCADE
);



%%sql 
CREATE TABLE IF NOT EXISTS Fine (
    FineID INTEGER PRIMARY KEY,
    amount DECIMAL(10,2) NOT NULL CHECK(amount >= 0),
    status CHAR(50) CHECK(status IN ('Unpaid', 'Paid'))
);



%%sql 
CREATE TABLE IF NOT EXISTS IncurredBy (
    FineID INTEGER NOT NULL,
    LoanID INTEGER NOT NULL,
    PRIMARY KEY (FineID, LoanID),
    FOREIGN KEY (LoanID) REFERENCES Loan (LoanID) ON DELETE CASCADE,
    FOREIGN KEY (FineID) REFERENCES Fine (FineID) ON DELETE CASCADE
);


%%sql
CREATE TABLE IF NOT EXISTS Event (
    EventID INTEGER PRIMARY KEY AUTOINCREMENT,
    type CHAR(50) NOT NULL
);



%%sql
CREATE TABLE IF NOT EXISTS Attends (
    UserID INTEGER NOT NULL,
    EventID INTEGER NOT NULL,
    PRIMARY KEY (UserID, EventID),
    FOREIGN KEY (UserID) REFERENCES User (UserID) ON DELETE CASCADE,
    FOREIGN KEY (EventID) REFERENCES Event (EventID) ON DELETE CASCADE
);



%%sql
CREATE TABLE IF NOT EXISTS Room (
    RoomID INTEGER PRIMARY KEY AUTOINCREMENT,
    capacity INTEGER NOT NULL
);



%%sql
CREATE TABLE IF NOT EXISTS Uses (
    EventID INTEGER NOT NULL,
    RoomID INTEGER NOT NULL,
    PRIMARY KEY (EventID, RoomID),
    FOREIGN KEY (EventID) REFERENCES Event (EventID) ON DELETE CASCADE,
    FOREIGN KEY (RoomID) REFERENCES Room (RoomID) ON DELETE CASCADE
);



%%sql
CREATE TABLE IF NOT EXISTS Personnel (
    StaffID INTEGER PRIMARY KEY AUTOINCREMENT,
    name CHAR(50) NOT NULL,
    position CHAR(50) NOT NULL,
    salary DECIMAL(10,2) NOT NULL CHECK (salary > 0)
);



%%sql
CREATE TABLE IF NOT EXISTS Manages (
    StaffID INTEGER NOT NULL,
    EventID INTEGER NOT NULL,
    PRIMARY KEY (StaffID, EventID),
    FOREIGN KEY (StaffID) REFERENCES Personnel (StaffID) ON DELETE CASCADE,
    FOREIGN KEY (EventID) REFERENCES Event (EventID) ON DELETE CASCADE
);



%%sql
CREATE TABLE IF NOT EXISTS NotificationQueue (
    UserID INTEGER NOT NULL,
    EventID INTEGER NOT NULL,
    message CHAR(50) NOT NULL,
    status CHAR(50) DEFAULT 'Pending' CHECK(status IN ('Pending', 'Sent')),
    PRIMARY KEY (UserID, eventID),
    FOREIGN KEY (UserID) REFERENCES User(UserID),
    FOREIGN KEY (EventID) REFERENCES Event(EventID)
);



%%sql
CREATE TABLE IF NOT EXISTS HelpRequests (
    RequestID INTEGER PRIMARY KEY AUTOINCREMENT,
    message CHAR(50) NOT NULL,
    email CHAR(50) NOT NULL UNIQUE CHECK(email LIKE '%@%.%'),
    FOREIGN KEY (email) REFERENCES User(email)
);



%%sql
CREATE TABLE IF NOT EXISTS Request (
    RequestID INTEGER NOT NULL,
    StaffID INTEGER NOT NULL,
    UserID INTEGER NOT NULL,
    PRIMARY KEY (StaffID, RequestID, UserID),
    FOREIGN KEY (StaffID) REFERENCES Personnel (StaffID) ON DELETE CASCADE,
    FOREIGN KEY (RequestID) REFERENCES HelpRequest (RequestID) ON DELETE CASCADE,
    FOREIGN KEY (UserID) REFERENCES User (UserID) ON DELETE CASCADE
);


%%sql 
SELECT name FROM sqlite_master WHERE type='table';






%%sql
INSERT INTO User (UserID, email, preference)
VALUES
    (1, 'alice.brown@example.com', 'Book Club'),
    (2, 'bob.smith@example.com', 'Book Club'),
    (3, 'carol.jones@example.com', 'Film Screening'),
    (4, 'dave.wilson@example.com', 'Art Show'),
    (5, 'eve.davis@example.com', 'Book Club'),
    (6, 'frank.miller@example.com', 'Art Show'),
    (7, 'grace.lee@example.com', 'Film Screening'),
    (8, 'henry.taylor@example.com', 'Book Club'),
    (9, 'ivy.anderson@example.com', 'Art Show'),
    (10, 'jack.thomas@example.com', 'Book Club');


%%sql
INSERT INTO Item (ItemID, Title, Type, Author, Status)
VALUES
    --NORMAL BOOK
    (101, 'The Great Gatsby', 'Book', 'F. Scott Fitzgerald', 'Borrowed'),
    (102, '1984', 'Book', 'George Orwell', 'Borrowed'),
    (103, 'National Geographic', 'Magazine', 'Various', 'Borrowed'),
    (104, 'Time', 'Magazine', 'Various', 'Borrowed'),
    (105, 'Thriller', 'Book', 'Michael Jackson', 'Borrowed'),
    (106, 'Inception', 'Book', 'Christopher Nolan', 'Borrowed'),
    (107, 'Learn Python', 'Book', 'John Doe', 'Borrowed'),
    (108, 'Interstellar Soundtrack', 'Book', 'Hans Zimmer', 'Borrowed'),
    (109, 'The New Yorker', 'Magazine', 'Various', 'Borrowed'),
    (110, 'Science Journal', 'Scientific Journal', 'Various', 'Borrowed'),
    --CD
    (111, 'Best of Mozart', 'Book', 'Mozart', 'Available'),
    (112, 'Classical Hits', 'Book', 'Various', 'Available'),
    (113, 'Lo-Fi Chill', 'Book', 'Indie Beats', 'Available'),
    (114, 'Jazz Essentials', 'Book', 'Miles Davis', 'Available'),
    (115, 'Pop Anthems', 'Book', 'Taylor Swift', 'Available'),
    (116, 'Rock Legends', 'Book', 'Queen', 'Available'),
    (117, 'Hip Hop Beats', 'Book', 'Dr. Dre', 'Available'),
    (118, 'Piano Classics', 'Book', 'Chopin', 'Available'),
    (119, 'Movie Scores', 'Book', 'Hans Zimmer', 'Available'),
    (120, 'EDM Party', 'Book', 'Various', 'Available'),
    --OnlineItem
    (121, 'Digital Design Handbook', 'Book', 'Alice Wang', 'online'),
    (122, 'Advanced Databases', 'Book', 'Bob Smith', 'online'),
    (123, 'AI Revolution', 'Book', 'Carol Lee', 'online'),
    (124, 'Data Science 101', 'Book', 'Daniel Zhang', 'online'),
    (125, 'Web Dev Guide', 'Book', 'Emily Chen', 'online'),
    (126, 'Cybersecurity Basics', 'Book', 'Frank Yu', 'online'),
    (127, 'Intro to Algorithms', 'Book', 'Grace Lin', 'online'),
    (128, 'Modern Physics', 'Book', 'Henry Zhao', 'online'),
    (129, 'Economics in Practice', 'Book', 'Ivy Liu', 'online'),
    (130, 'Design Thinking', 'Book', 'Jack Li', 'online'),
    --FutureItem
    (131, 'Quantum World', 'Book', 'Tom Wu', 'FutureItem'),
    (132, 'Neural Networks', 'Book', 'Sarah Kim', 'FutureItem'),
    (133, 'Cloud Native', 'Book', 'Leo Ma', 'FutureItem'),
    (134, 'Machine Ethics', 'Book', 'Anne Zhou', 'FutureItem'),
    (135, 'Digital Marketing', 'Book', 'Will Zheng', 'FutureItem'),
    (136, 'Bioinformatics', 'Book', 'Kevin Wang', 'FutureItem'),
    (137, 'Philosophy Today', 'Book', 'Rachel Sun', 'FutureItem'),
    (138, 'Behavioral Econ', 'Book', 'Linda Hu', 'FutureItem'),
    (139, 'Robotics Intro', 'Book', 'Alex Zhao', 'FutureItem'),
    (140, 'History of AI', 'Book', 'Nina Luo', 'FutureItem');


%%sql
INSERT INTO CD (ItemID, Duration)
VALUES
    (111, '45:00'),
    (112, '38:20'),
    (113, '50:10'),
    (114, '60:00'),
    (115, '42:35'),
    (116, '47:15'),
    (117, '39:30'),
    (118, '54:25'),
    (119, '48:10'),
    (120, '52:00');


%%sql
INSERT INTO onlineItem (ItemID, URL)
VALUES
    (121, 'https://example.com/design'),
    (122, 'https://example.com/db'),
    (123, 'https://example.com/ai'),
    (124, 'https://example.com/data'),
    (125, 'https://example.com/web'),
    (126, 'https://example.com/security'),
    (127, 'https://example.com/algos'),
    (128, 'https://example.com/physics'),
    (129, 'https://example.com/econ'),
    (130, 'https://example.com/design-thinking');


%%sql
INSERT INTO Loan (LoanID,due)
VALUES
    (201, '2025-04-15'),
    (202, '2025-04-20'),
    (203, '2025-04-18'),
    (204, '2025-04-12'),
    (205, '2025-04-22'),
    (206, '2025-04-16'),
    (207, '2025-04-19'),
    (208, '2025-04-17'),
    (209, '2025-04-21'),
    (210, '2025-04-25');



%%sql
INSERT INTO Borrows (LoanID, UserID, ItemID)
VALUES
    (201, 1, 102),
    (202, 2, 105),
    (203, 3, 108),
    (204, 4, 101),
    (205, 5, 107),
    (206, 6, 106),
    (207, 7, 104),
    (208, 8, 103),
    (209, 9, 110),
    (210, 10, 109);


%%sql
INSERT INTO Fine (FineID, Amount, Status)
VALUES
    (301, 10.00, 'Unpaid'),
    (302, 0.00, 'Paid'),
    (303, 5.00, 'Unpaid'),
    (304, 0.00, 'Paid'),
    (305, 0.00, 'Paid'),
    (306, 0.00, 'Paid'),
    (307, 3.00, 'Unpaid'),
    (308, 0.00, 'Paid'),
    (309, 8.00, 'Unpaid'),
    (310, 0.00, 'Paid');


%%sql
INSERT INTO IncurredBy (LoanID, FineID)
VALUES
    (301, 201),
    (302, 202),
    (303, 203),
    (304, 204),
    (305, 205),
    (306, 206),
    (307, 207),
    (308, 208),
    (309, 209),
    (310, 210);


%%sql
INSERT INTO Event (EventID, Type)
VALUES
    (401, 'Book Club'),
    (402, 'Film Screening'),
    (403, 'Art Show'),
    (404, 'Tech Talk'),
    (405, 'Cooking Class'),
    (406, 'History Lecture'),
    (407, 'Science Seminar'),
    (408, 'Music Concert'),
    (409, 'Poetry Reading'),
    (410, 'Children Storytime');


%%sql
INSERT INTO Room (RoomID, Capacity)
VALUES
    (501, 30),
    (502, 50),
    (503, 40),
    (504, 25),
    (505, 20),
    (506, 60),
    (507, 15),
    (508, 35),
    (509, 45),
    (510, 55);


%%sql
INSERT INTO Uses (EventID, roomID)
VALUES
    (401, 501),
    (402, 502),
    (403, 503),
    (404, 504),
    (405, 505),
    (406, 506),
    (407, 507),
    (408, 508),
    (409, 509),
    (410, 510);



%%sql
INSERT INTO Attends (userID, EventID)
VALUES
    (1, 401),
    (2, 401),
    (3, 402),
    (4, 403),
    (5, 401),
    (6, 403),
    (7, 402),
    (8, 401),
    (9, 403),
    (10, 401);



%%sql
INSERT INTO Personnel (staffID, name, position, salary)
VALUES
    (601, 'Alice Zhang', 'Librarian', 52000.00),
    (602, 'Bob Lee', 'Event Manager', 58000.00),
    (603, 'Carol Wang', 'Event Manager', 50000.00),
    (604, 'David Kim', 'Technician', 47000.00),
    (605, 'Eve Liu', 'Assistant Librarian', 42000.00),
    (606, 'Frank Chen', 'IT Support', 54000.00),
    (607, 'Grace Huang', 'Head Librarian', 68000.00),
    (608, 'Henry Zhao', 'Security Officer', 40000.00),
    (609, 'Ivy Xu', 'Cataloging Specialist', 49000.00),
    (610, 'Jack Ma', 'Volunteer Coordinator', 45000.00);



%%sql
INSERT INTO Manages (staffID, EventID)
VALUES
    (602, 401),
    (603, 402),
    (602, 403),
    (603, 404),
    (602, 405),
    (603, 406),
    (602, 407),
    (603, 408),
    (602, 409),
    (603, 410);



%%sql
INSERT INTO NotificationQueue (userID, eventID, message)
VALUES
    (1, 401, 'You may be interested in this event. Would you like to come?'),
    (2, 401, 'You may be interested in this event. Would you like to come?'),
    (3, 402, 'You may be interested in this event. Would you like to come?'),
    (4, 403, 'You may be interested in this event. Would you like to come?'),
    (5, 401, 'You may be interested in this event. Would you like to come?'),
    (6, 403, 'You may be interested in this event. Would you like to come?'),
    (7, 402, 'You may be interested in this event. Would you like to come?'),
    (8, 401, 'You may be interested in this event. Would you like to come?'),
    (9, 403, 'You may be interested in this event. Would you like to come?'),
    (10, 401, 'You may be interested in this event. Would you like to come?');



%%sql
INSERT INTO HelpRequests (requestID, email, message)
VALUES
    (801, 'alice.brown@example.com', 'I have a problem with my account.'),
    (802, 'bob.smith@example.com', 'I have a problem with my password.'),
    (803, 'carol.jones@example.com', 'I have a problem with overdue books.'),
    (804, 'dave.wilson@example.com', 'I have a problem with the loan system.'),
    (805, 'eve.davis@example.com', 'I have a problem with event registration.'),
    (806, 'frank.miller@example.com', 'I have a problem with receiving notifications.'),
    (807, 'grace.lee@example.com', 'I have a problem with accessing online items.'),
    (808, 'henry.taylor@example.com', 'I have a problem with CD borrowing.'),
    (809, 'ivy.anderson@example.com', 'I have a problem with my fines.'),
    (810, 'jack.thomas@example.com', 'I have a problem with room reservations.');



%%sql
INSERT INTO Request(RequestID, UserID, StaffID)
VALUES
    (801, 1, 602),
    (802, 2, 604),
    (803, 3, 608),
    (804, 4, 602),
    (805, 5, 602),
    (806, 6, 604),
    (807, 7, 604),
    (808, 8, 608),
    (809, 9, 608),
    (810, 10, 602);





%%sql
CREATE TRIGGER update_item_status_on_borrow
AFTER INSERT ON Loan
FOR EACH ROW
BEGIN
    UPDATE Item
    SET status = 'borrowed'
    WHERE ItemID = NEW.ItemID;
END;



%%sql
CREATE TRIGGER update_item_status_on_return
AFTER DELETE ON Loan
FOR EACH ROW
BEGIN
    UPDATE Item
    SET status = 'available'
    WHERE ItemID = OLD.ItemID;
END;



%%sql
CREATE TRIGGER IF NOT EXISTS trigger_notify_users_on_new_event
AFTER INSERT ON Event
FOR EACH ROW
BEGIN
    INSERT INTO NotificationQueue (userID, eventID, email, message)
    SELECT 
        userID,
        NEW.EventID,
        email,
        'Hi! Here is a new event you might like has been posted: ' || NEW.type
    FROM User
    WHERE preference = NEW.type;
END;



%%sql
CREATE TRIGGER prevent_borrow_if_unavailable
BEFORE INSERT ON Loan
FOR EACH ROW
BEGIN
    SELECT 
    CASE
        WHEN (SELECT status FROM Item WHERE ItemID = NEW.ItemID) = 'borrowed'
        THEN RAISE(ABORT, 'This item is already borrowed.')
    END;
END;



%%sql
CREATE TRIGGER cd_check_item_trigger
BEFORE INSERT ON CD
FOR EACH ROW
BEGIN
    SELECT 
    CASE
        WHEN (SELECT COUNT(*) FROM Item WHERE ItemID = NEW.ItemID) = 0
        THEN
            RAISE(ABORT, 'Cannot insert CD: corresponding ItemID does not exist in Item table')
    END;
END;




