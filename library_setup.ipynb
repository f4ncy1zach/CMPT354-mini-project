{
 "cells": [
  {
   "cell_type": "code",
   "execution_count": 11,
   "id": "957cc8f0-eadc-4709-a10d-4c7fa4596911",
   "metadata": {},
   "outputs": [
    {
     "data": {
      "text/html": [
       "<span style=\"None\">displaylimit: Value None will be treated as 0 (no limit)</span>"
      ],
      "text/plain": [
       "displaylimit: Value None will be treated as 0 (no limit)"
      ]
     },
     "metadata": {},
     "output_type": "display_data"
    }
   ],
   "source": [
    "%load_ext sql\n",
    "%config SqlMagic.displaylimit = None"
   ]
  },
  {
   "cell_type": "code",
   "execution_count": 13,
   "id": "24633b8c-2a0d-4034-afac-4d74f59355b8",
   "metadata": {},
   "outputs": [
    {
     "data": {
      "text/html": [
       "<span style=\"None\">Connecting to &#x27;sqlite:///library.db&#x27;</span>"
      ],
      "text/plain": [
       "Connecting to 'sqlite:///library.db'"
      ]
     },
     "metadata": {},
     "output_type": "display_data"
    }
   ],
   "source": [
    "%sql sqlite:///library.db"
   ]
  },
  {
   "cell_type": "code",
   "execution_count": null,
   "id": "f2507d8a-e2eb-419d-9a0a-45bae52aa86a",
   "metadata": {},
   "outputs": [
    {
     "data": {
      "text/html": [
       "<span style=\"None\">Running query in &#x27;sqlite:///library.db&#x27;</span>"
      ],
      "text/plain": [
       "Running query in 'sqlite:///library.db'"
      ]
     },
     "metadata": {},
     "output_type": "display_data"
    },
    {
     "data": {
      "text/html": [
       "<table>\n",
       "    <thead>\n",
       "        <tr>\n",
       "        </tr>\n",
       "    </thead>\n",
       "    <tbody>\n",
       "    </tbody>\n",
       "</table>"
      ],
      "text/plain": [
       "++\n",
       "||\n",
       "++\n",
       "++"
      ]
     },
     "execution_count": 11,
     "metadata": {},
     "output_type": "execute_result"
    }
   ],
   "source": [
    "%%sql\n",
    "CREATE TABLE IF NOT EXISTS User (\n",
    "    userID INTEGER PRIMARY KEY AUTOINCREMENT,\n",
    "    preference TEXT\n",
    ");\n"
   ]
  },
  {
   "cell_type": "code",
   "execution_count": 15,
   "id": "514c561c-33c4-4aa7-86da-ce61391767a4",
   "metadata": {},
   "outputs": [
    {
     "data": {
      "text/html": [
       "<span style=\"None\">Running query in &#x27;sqlite:///library.db&#x27;</span>"
      ],
      "text/plain": [
       "Running query in 'sqlite:///library.db'"
      ]
     },
     "metadata": {},
     "output_type": "display_data"
    },
    {
     "data": {
      "text/html": [
       "<table>\n",
       "    <thead>\n",
       "        <tr>\n",
       "        </tr>\n",
       "    </thead>\n",
       "    <tbody>\n",
       "    </tbody>\n",
       "</table>"
      ],
      "text/plain": [
       "++\n",
       "||\n",
       "++\n",
       "++"
      ]
     },
     "execution_count": 15,
     "metadata": {},
     "output_type": "execute_result"
    }
   ],
   "source": [
    "%%sql\n",
    "CREATE TABLE IF NOT EXISTS Item (\n",
    "    ItemID INTEGER PRIMARY KEY AUTOINCREMENT,\n",
    "    title TEXT NOT NULL,\n",
    "    type TEXT NOT NULL,\n",
    "    author TEXT,\n",
    "    status TEXT\n",
    ");\n"
   ]
  },
  {
   "cell_type": "code",
   "execution_count": 19,
   "id": "0aeb11c5-12f1-4df1-a4d9-ce7a74e0c4f3",
   "metadata": {},
   "outputs": [
    {
     "data": {
      "text/html": [
       "<span style=\"None\">Running query in &#x27;sqlite:///library.db&#x27;</span>"
      ],
      "text/plain": [
       "Running query in 'sqlite:///library.db'"
      ]
     },
     "metadata": {},
     "output_type": "display_data"
    },
    {
     "data": {
      "text/html": [
       "<table>\n",
       "    <thead>\n",
       "        <tr>\n",
       "        </tr>\n",
       "    </thead>\n",
       "    <tbody>\n",
       "    </tbody>\n",
       "</table>"
      ],
      "text/plain": [
       "++\n",
       "||\n",
       "++\n",
       "++"
      ]
     },
     "execution_count": 19,
     "metadata": {},
     "output_type": "execute_result"
    }
   ],
   "source": [
    "%%sql\n",
    "CREATE TABLE IF NOT EXISTS CD (\n",
    "    ItemID INTEGER PRIMARY KEY,\n",
    "    duration INTEGER NOT NULL,\n",
    "    FOREIGN KEY (ItemID) REFERENCES Item (ItemID) ON DELETE CASCADE\n",
    ");\n"
   ]
  },
  {
   "cell_type": "code",
   "execution_count": 21,
   "id": "f987ea40-a5ee-44c5-a6b7-ac0829588cc7",
   "metadata": {},
   "outputs": [
    {
     "data": {
      "text/html": [
       "<span style=\"None\">Running query in &#x27;sqlite:///library.db&#x27;</span>"
      ],
      "text/plain": [
       "Running query in 'sqlite:///library.db'"
      ]
     },
     "metadata": {},
     "output_type": "display_data"
    },
    {
     "data": {
      "text/html": [
       "<table>\n",
       "    <thead>\n",
       "        <tr>\n",
       "        </tr>\n",
       "    </thead>\n",
       "    <tbody>\n",
       "    </tbody>\n",
       "</table>"
      ],
      "text/plain": [
       "++\n",
       "||\n",
       "++\n",
       "++"
      ]
     },
     "execution_count": 21,
     "metadata": {},
     "output_type": "execute_result"
    }
   ],
   "source": [
    "%%sql\n",
    "CREATE TABLE IF NOT EXISTS OnlineItem (\n",
    "    ItemID INTEGER PRIMARY KEY,\n",
    "    url TEXT NOT NULL,\n",
    "    FOREIGN KEY (ItemID) REFERENCES Item (ItemID) ON DELETE CASCADE\n",
    ");\n"
   ]
  },
  {
   "cell_type": "code",
   "execution_count": 25,
   "id": "503f0a82-6e28-4681-b028-973bb8c43a34",
   "metadata": {},
   "outputs": [
    {
     "data": {
      "text/html": [
       "<span style=\"None\">Running query in &#x27;sqlite:///library.db&#x27;</span>"
      ],
      "text/plain": [
       "Running query in 'sqlite:///library.db'"
      ]
     },
     "metadata": {},
     "output_type": "display_data"
    },
    {
     "data": {
      "text/html": [
       "<table>\n",
       "    <thead>\n",
       "        <tr>\n",
       "        </tr>\n",
       "    </thead>\n",
       "    <tbody>\n",
       "    </tbody>\n",
       "</table>"
      ],
      "text/plain": [
       "++\n",
       "||\n",
       "++\n",
       "++"
      ]
     },
     "execution_count": 25,
     "metadata": {},
     "output_type": "execute_result"
    }
   ],
   "source": [
    "%%sql\n",
    "CREATE TABLE IF NOT EXISTS Loan (\n",
    "    LoanID INTEGER PRIMARY KEY AUTOINCREMENT,\n",
    "    due DATE NOT NULL,\n",
    "    userID INTEGER NOT NULL,\n",
    "    ItemID INTEGER NOT NULL,\n",
    "    FOREIGN KEY (userID) REFERENCES User (userID) ON DELETE CASCADE,\n",
    "    FOREIGN KEY (ItemID) REFERENCES Item (ItemID) ON DELETE CASCADE\n",
    ");\n"
   ]
  },
  {
   "cell_type": "code",
   "execution_count": 27,
   "id": "99608a83-ebc9-4695-9342-67d2c7181c5c",
   "metadata": {},
   "outputs": [
    {
     "data": {
      "text/html": [
       "<span style=\"None\">Running query in &#x27;sqlite:///library.db&#x27;</span>"
      ],
      "text/plain": [
       "Running query in 'sqlite:///library.db'"
      ]
     },
     "metadata": {},
     "output_type": "display_data"
    },
    {
     "data": {
      "text/html": [
       "<table>\n",
       "    <thead>\n",
       "        <tr>\n",
       "        </tr>\n",
       "    </thead>\n",
       "    <tbody>\n",
       "    </tbody>\n",
       "</table>"
      ],
      "text/plain": [
       "++\n",
       "||\n",
       "++\n",
       "++"
      ]
     },
     "execution_count": 27,
     "metadata": {},
     "output_type": "execute_result"
    }
   ],
   "source": [
    "%%sql\n",
    "CREATE TABLE IF NOT EXISTS Borrows (\n",
    "    userID INTEGER NOT NULL,\n",
    "    LoanID INTEGER NOT NULL,\n",
    "    PRIMARY KEY (userID, LoanID),\n",
    "    FOREIGN KEY (userID) REFERENCES User (userID) ON DELETE CASCADE,\n",
    "    FOREIGN KEY (LoanID) REFERENCES Loan (LoanID) ON DELETE CASCADE\n",
    ");\n"
   ]
  },
  {
   "cell_type": "code",
   "execution_count": 35,
   "id": "11ef8f26-7c3f-4c14-878d-c5d2788efd47",
   "metadata": {},
   "outputs": [
    {
     "data": {
      "text/html": [
       "<span style=\"None\">Running query in &#x27;sqlite:///library.db&#x27;</span>"
      ],
      "text/plain": [
       "Running query in 'sqlite:///library.db'"
      ]
     },
     "metadata": {},
     "output_type": "display_data"
    },
    {
     "data": {
      "text/html": [
       "<table>\n",
       "    <thead>\n",
       "        <tr>\n",
       "        </tr>\n",
       "    </thead>\n",
       "    <tbody>\n",
       "    </tbody>\n",
       "</table>"
      ],
      "text/plain": [
       "++\n",
       "||\n",
       "++\n",
       "++"
      ]
     },
     "execution_count": 35,
     "metadata": {},
     "output_type": "execute_result"
    }
   ],
   "source": [
    "%%sql \n",
    "CREATE TABLE IF NOT EXISTS Fine (\n",
    "    LoanID INTEGER PRIMARY KEY,\n",
    "    amount DECIMAL(10,2) NOT NULL,\n",
    "    status TEXT NOT NULL,\n",
    "    FOREIGN KEY (LoanID) REFERENCES Loan (LoanID) ON DELETE CASCADE\n",
    ");\n"
   ]
  },
  {
   "cell_type": "code",
   "execution_count": 37,
   "id": "28ccf21a-1314-42cc-8be2-06503e3a428f",
   "metadata": {},
   "outputs": [
    {
     "data": {
      "text/html": [
       "<span style=\"None\">Running query in &#x27;sqlite:///library.db&#x27;</span>"
      ],
      "text/plain": [
       "Running query in 'sqlite:///library.db'"
      ]
     },
     "metadata": {},
     "output_type": "display_data"
    },
    {
     "data": {
      "text/html": [
       "<table>\n",
       "    <thead>\n",
       "        <tr>\n",
       "        </tr>\n",
       "    </thead>\n",
       "    <tbody>\n",
       "    </tbody>\n",
       "</table>"
      ],
      "text/plain": [
       "++\n",
       "||\n",
       "++\n",
       "++"
      ]
     },
     "execution_count": 37,
     "metadata": {},
     "output_type": "execute_result"
    }
   ],
   "source": [
    "%%sql \n",
    "CREATE TABLE IF NOT EXISTS Event (\n",
    "    EventID INTEGER PRIMARY KEY AUTOINCREMENT,\n",
    "    type TEXT NOT NULL\n",
    ");\n"
   ]
  },
  {
   "cell_type": "code",
   "execution_count": 41,
   "id": "b147e469-01ca-4de1-a51d-c90b0ddd2b6f",
   "metadata": {},
   "outputs": [
    {
     "data": {
      "text/html": [
       "<span style=\"None\">Running query in &#x27;sqlite:///library.db&#x27;</span>"
      ],
      "text/plain": [
       "Running query in 'sqlite:///library.db'"
      ]
     },
     "metadata": {},
     "output_type": "display_data"
    },
    {
     "data": {
      "text/html": [
       "<table>\n",
       "    <thead>\n",
       "        <tr>\n",
       "        </tr>\n",
       "    </thead>\n",
       "    <tbody>\n",
       "    </tbody>\n",
       "</table>"
      ],
      "text/plain": [
       "++\n",
       "||\n",
       "++\n",
       "++"
      ]
     },
     "execution_count": 41,
     "metadata": {},
     "output_type": "execute_result"
    }
   ],
   "source": [
    "%%sql\n",
    "CREATE TABLE IF NOT EXISTS Attends (\n",
    "    userID INTEGER NOT NULL,\n",
    "    EventID INTEGER NOT NULL,\n",
    "    PRIMARY KEY (userID, EventID),\n",
    "    FOREIGN KEY (userID) REFERENCES User (userID) ON DELETE CASCADE,\n",
    "    FOREIGN KEY (EventID) REFERENCES Event (EventID) ON DELETE CASCADE\n",
    ");\n"
   ]
  },
  {
   "cell_type": "code",
   "execution_count": 43,
   "id": "9b9ed97f-4ccb-46b3-913d-4fa6ad376d47",
   "metadata": {},
   "outputs": [
    {
     "data": {
      "text/html": [
       "<span style=\"None\">Running query in &#x27;sqlite:///library.db&#x27;</span>"
      ],
      "text/plain": [
       "Running query in 'sqlite:///library.db'"
      ]
     },
     "metadata": {},
     "output_type": "display_data"
    },
    {
     "data": {
      "text/html": [
       "<table>\n",
       "    <thead>\n",
       "        <tr>\n",
       "        </tr>\n",
       "    </thead>\n",
       "    <tbody>\n",
       "    </tbody>\n",
       "</table>"
      ],
      "text/plain": [
       "++\n",
       "||\n",
       "++\n",
       "++"
      ]
     },
     "execution_count": 43,
     "metadata": {},
     "output_type": "execute_result"
    }
   ],
   "source": [
    "%%sql\n",
    "CREATE TABLE IF NOT EXISTS Room (\n",
    "    roomID INTEGER PRIMARY KEY AUTOINCREMENT,\n",
    "    capacity INTEGER NOT NULL\n",
    ");\n"
   ]
  },
  {
   "cell_type": "code",
   "execution_count": 47,
   "id": "0ace2bdb-0804-4ba1-a7b7-b8cb0e3ae674",
   "metadata": {},
   "outputs": [
    {
     "data": {
      "text/html": [
       "<span style=\"None\">Running query in &#x27;sqlite:///library.db&#x27;</span>"
      ],
      "text/plain": [
       "Running query in 'sqlite:///library.db'"
      ]
     },
     "metadata": {},
     "output_type": "display_data"
    },
    {
     "data": {
      "text/html": [
       "<table>\n",
       "    <thead>\n",
       "        <tr>\n",
       "        </tr>\n",
       "    </thead>\n",
       "    <tbody>\n",
       "    </tbody>\n",
       "</table>"
      ],
      "text/plain": [
       "++\n",
       "||\n",
       "++\n",
       "++"
      ]
     },
     "execution_count": 47,
     "metadata": {},
     "output_type": "execute_result"
    }
   ],
   "source": [
    "%%sql\n",
    "CREATE TABLE IF NOT EXISTS Uses (\n",
    "    EventID INTEGER NOT NULL,\n",
    "    roomID INTEGER NOT NULL,\n",
    "    PRIMARY KEY (EventID, roomID),\n",
    "    FOREIGN KEY (EventID) REFERENCES Event (EventID) ON DELETE CASCADE,\n",
    "    FOREIGN KEY (roomID) REFERENCES Room (roomID) ON DELETE CASCADE\n",
    ");\n"
   ]
  },
  {
   "cell_type": "code",
   "execution_count": 58,
   "id": "532be1fb-f7fc-47f2-8892-ebd6b065f9ce",
   "metadata": {},
   "outputs": [
    {
     "data": {
      "text/html": [
       "<span style=\"None\">Running query in &#x27;sqlite:///library.db&#x27;</span>"
      ],
      "text/plain": [
       "Running query in 'sqlite:///library.db'"
      ]
     },
     "metadata": {},
     "output_type": "display_data"
    },
    {
     "data": {
      "text/html": [
       "<table>\n",
       "    <thead>\n",
       "        <tr>\n",
       "        </tr>\n",
       "    </thead>\n",
       "    <tbody>\n",
       "    </tbody>\n",
       "</table>"
      ],
      "text/plain": [
       "++\n",
       "||\n",
       "++\n",
       "++"
      ]
     },
     "execution_count": 58,
     "metadata": {},
     "output_type": "execute_result"
    }
   ],
   "source": [
    "%%sql\n",
    "CREATE TABLE IF NOT EXISTS Personnel (\n",
    "    staffID INTEGER PRIMARY KEY AUTOINCREMENT,\n",
    "    name TEXT NOT NULL,\n",
    "    position TEXT NOT NULL,\n",
    "    salary DECIMAL(10,2) NOT NULL\n",
    ");\n"
   ]
  },
  {
   "cell_type": "code",
   "execution_count": 62,
   "id": "8ebd20b2-c19f-40b2-b020-ea226c93265e",
   "metadata": {},
   "outputs": [
    {
     "data": {
      "text/html": [
       "<span style=\"None\">Running query in &#x27;sqlite:///library.db&#x27;</span>"
      ],
      "text/plain": [
       "Running query in 'sqlite:///library.db'"
      ]
     },
     "metadata": {},
     "output_type": "display_data"
    },
    {
     "data": {
      "text/html": [
       "<table>\n",
       "    <thead>\n",
       "        <tr>\n",
       "        </tr>\n",
       "    </thead>\n",
       "    <tbody>\n",
       "    </tbody>\n",
       "</table>"
      ],
      "text/plain": [
       "++\n",
       "||\n",
       "++\n",
       "++"
      ]
     },
     "execution_count": 62,
     "metadata": {},
     "output_type": "execute_result"
    }
   ],
   "source": [
    "%%sql\n",
    "CREATE TABLE IF NOT EXISTS Manages (\n",
    "    staffID INTEGER NOT NULL,\n",
    "    EventID INTEGER NOT NULL,\n",
    "    PRIMARY KEY (staffID, EventID),\n",
    "    FOREIGN KEY (staffID) REFERENCES Personnel (staffID) ON DELETE CASCADE,\n",
    "    FOREIGN KEY (EventID) REFERENCES Event (EventID) ON DELETE CASCADE\n",
    ");\n"
   ]
  },
  {
   "cell_type": "code",
   "execution_count": 64,
   "id": "8568a512-6751-45bf-98c2-08124d7f6a2b",
   "metadata": {},
   "outputs": [
    {
     "data": {
      "text/html": [
       "<span style=\"None\">Running query in &#x27;sqlite:///library.db&#x27;</span>"
      ],
      "text/plain": [
       "Running query in 'sqlite:///library.db'"
      ]
     },
     "metadata": {},
     "output_type": "display_data"
    },
    {
     "data": {
      "text/html": [
       "<table>\n",
       "    <thead>\n",
       "        <tr>\n",
       "            <th>name</th>\n",
       "        </tr>\n",
       "    </thead>\n",
       "    <tbody>\n",
       "        <tr>\n",
       "            <td>User</td>\n",
       "        </tr>\n",
       "        <tr>\n",
       "            <td>sqlite_sequence</td>\n",
       "        </tr>\n",
       "        <tr>\n",
       "            <td>Item</td>\n",
       "        </tr>\n",
       "        <tr>\n",
       "            <td>CD</td>\n",
       "        </tr>\n",
       "        <tr>\n",
       "            <td>OnlineItem</td>\n",
       "        </tr>\n",
       "        <tr>\n",
       "            <td>Loan</td>\n",
       "        </tr>\n",
       "        <tr>\n",
       "            <td>Borrows</td>\n",
       "        </tr>\n",
       "        <tr>\n",
       "            <td>Fine</td>\n",
       "        </tr>\n",
       "        <tr>\n",
       "            <td>Event</td>\n",
       "        </tr>\n",
       "        <tr>\n",
       "            <td>Attends</td>\n",
       "        </tr>\n",
       "        <tr>\n",
       "            <td>Room</td>\n",
       "        </tr>\n",
       "        <tr>\n",
       "            <td>Uses</td>\n",
       "        </tr>\n",
       "        <tr>\n",
       "            <td>Personnel</td>\n",
       "        </tr>\n",
       "        <tr>\n",
       "            <td>Manages</td>\n",
       "        </tr>\n",
       "    </tbody>\n",
       "</table>"
      ],
      "text/plain": [
       "+-----------------+\n",
       "|       name      |\n",
       "+-----------------+\n",
       "|       User      |\n",
       "| sqlite_sequence |\n",
       "|       Item      |\n",
       "|        CD       |\n",
       "|    OnlineItem   |\n",
       "|       Loan      |\n",
       "|     Borrows     |\n",
       "|       Fine      |\n",
       "|      Event      |\n",
       "|     Attends     |\n",
       "|       Room      |\n",
       "|       Uses      |\n",
       "|    Personnel    |\n",
       "|     Manages     |\n",
       "+-----------------+"
      ]
     },
     "execution_count": 64,
     "metadata": {},
     "output_type": "execute_result"
    }
   ],
   "source": [
    "%%sql \n",
    "SELECT name FROM sqlite_master WHERE type='table';\n"
   ]
  },
  {
   "cell_type": "code",
   "execution_count": 69,
   "id": "70f8cc0f-4336-4d1d-85a5-f0bbf252feb5",
   "metadata": {},
   "outputs": [
    {
     "data": {
      "text/html": [
       "<span style=\"None\">Running query in &#x27;sqlite:///library.db&#x27;</span>"
      ],
      "text/plain": [
       "Running query in 'sqlite:///library.db'"
      ]
     },
     "metadata": {},
     "output_type": "display_data"
    },
    {
     "data": {
      "text/html": [
       "<table>\n",
       "    <thead>\n",
       "        <tr>\n",
       "        </tr>\n",
       "    </thead>\n",
       "    <tbody>\n",
       "    </tbody>\n",
       "</table>"
      ],
      "text/plain": [
       "++\n",
       "||\n",
       "++\n",
       "++"
      ]
     },
     "execution_count": 69,
     "metadata": {},
     "output_type": "execute_result"
    }
   ],
   "source": [
    "%%sql\n",
    "CREATE TRIGGER update_item_status_on_borrow\n",
    "AFTER INSERT ON Loan\n",
    "FOR EACH ROW\n",
    "BEGIN\n",
    "    UPDATE Item\n",
    "    SET status = 'borrowed'\n",
    "    WHERE ItemID = NEW.ItemID;\n",
    "END;\n"
   ]
  },
  {
   "cell_type": "code",
   "execution_count": 71,
   "id": "385a12af-d204-4203-877c-1e41632a1f43",
   "metadata": {},
   "outputs": [
    {
     "data": {
      "text/html": [
       "<span style=\"None\">Running query in &#x27;sqlite:///library.db&#x27;</span>"
      ],
      "text/plain": [
       "Running query in 'sqlite:///library.db'"
      ]
     },
     "metadata": {},
     "output_type": "display_data"
    },
    {
     "data": {
      "text/html": [
       "<table>\n",
       "    <thead>\n",
       "        <tr>\n",
       "        </tr>\n",
       "    </thead>\n",
       "    <tbody>\n",
       "    </tbody>\n",
       "</table>"
      ],
      "text/plain": [
       "++\n",
       "||\n",
       "++\n",
       "++"
      ]
     },
     "execution_count": 71,
     "metadata": {},
     "output_type": "execute_result"
    }
   ],
   "source": [
    "%%sql\n",
    "CREATE TRIGGER update_item_status_on_return\n",
    "AFTER DELETE ON Loan\n",
    "FOR EACH ROW\n",
    "BEGIN\n",
    "    UPDATE Item\n",
    "    SET status = 'available'\n",
    "    WHERE ItemID = OLD.ItemID;\n",
    "END;\n"
   ]
  },
  {
   "cell_type": "code",
   "execution_count": 67,
   "id": "c599a153-84e6-4552-a320-8c476a4d9977",
   "metadata": {},
   "outputs": [
    {
     "data": {
      "text/html": [
       "<span style=\"None\">Running query in &#x27;sqlite:///library.db&#x27;</span>"
      ],
      "text/plain": [
       "Running query in 'sqlite:///library.db'"
      ]
     },
     "metadata": {},
     "output_type": "display_data"
    },
    {
     "data": {
      "text/html": [
       "<table>\n",
       "    <thead>\n",
       "        <tr>\n",
       "        </tr>\n",
       "    </thead>\n",
       "    <tbody>\n",
       "    </tbody>\n",
       "</table>"
      ],
      "text/plain": [
       "++\n",
       "||\n",
       "++\n",
       "++"
      ]
     },
     "execution_count": 67,
     "metadata": {},
     "output_type": "execute_result"
    }
   ],
   "source": [
    "%%sql\n",
    "CREATE TRIGGER prevent_borrow_if_unavailable\n",
    "BEFORE INSERT ON Loan\n",
    "FOR EACH ROW\n",
    "BEGIN\n",
    "    SELECT \n",
    "    CASE\n",
    "        WHEN (SELECT status FROM Item WHERE ItemID = NEW.ItemID) = 'borrowed'\n",
    "        THEN RAISE(ABORT, 'This item is already borrowed.')\n",
    "    END;\n",
    "END;\n"
   ]
  },
  {
   "cell_type": "code",
   "execution_count": 29,
   "id": "34fcb460-d163-444d-ad83-71018fa0d273",
   "metadata": {},
   "outputs": [
    {
     "data": {
      "text/html": [
       "<span style=\"None\">Running query in &#x27;sqlite:///library.db&#x27;</span>"
      ],
      "text/plain": [
       "Running query in 'sqlite:///library.db'"
      ]
     },
     "metadata": {},
     "output_type": "display_data"
    },
    {
     "data": {
      "text/html": [
       "<table>\n",
       "    <thead>\n",
       "        <tr>\n",
       "        </tr>\n",
       "    </thead>\n",
       "    <tbody>\n",
       "    </tbody>\n",
       "</table>"
      ],
      "text/plain": [
       "++\n",
       "||\n",
       "++\n",
       "++"
      ]
     },
     "execution_count": 29,
     "metadata": {},
     "output_type": "execute_result"
    }
   ],
   "source": [
    "%%sql\n",
    "\n",
    "CREATE TRIGGER generate_fine_on_late_return\n",
    "AFTER DELETE ON Loan\n",
    "FOR EACH ROW\n",
    "WHEN julianday('now') > julianday(OLD.due)\n",
    "BEGIN\n",
    "    INSERT INTO Fine (LoanID, amount, status)\n",
    "    VALUES (OLD.LoanID, 1.00 * (julianday('now') - julianday(OLD.due)), 'Unpaid');\n",
    "END;\n"
   ]
  },
  {
   "cell_type": "code",
   "execution_count": 31,
   "id": "05097b5d-5989-4a36-89a2-77347395dcf8",
   "metadata": {},
   "outputs": [
    {
     "data": {
      "text/html": [
       "<span style=\"None\">Running query in &#x27;sqlite:///library.db&#x27;</span>"
      ],
      "text/plain": [
       "Running query in 'sqlite:///library.db'"
      ]
     },
     "metadata": {},
     "output_type": "display_data"
    },
    {
     "data": {
      "text/html": [
       "<table>\n",
       "    <thead>\n",
       "        <tr>\n",
       "            <th>name</th>\n",
       "        </tr>\n",
       "    </thead>\n",
       "    <tbody>\n",
       "        <tr>\n",
       "            <td>prevent_borrow_if_unavailable</td>\n",
       "        </tr>\n",
       "        <tr>\n",
       "            <td>update_item_status_on_borrow</td>\n",
       "        </tr>\n",
       "        <tr>\n",
       "            <td>update_item_status_on_return</td>\n",
       "        </tr>\n",
       "        <tr>\n",
       "            <td>generate_fine_on_late_return</td>\n",
       "        </tr>\n",
       "    </tbody>\n",
       "</table>"
      ],
      "text/plain": [
       "+-------------------------------+\n",
       "|              name             |\n",
       "+-------------------------------+\n",
       "| prevent_borrow_if_unavailable |\n",
       "|  update_item_status_on_borrow |\n",
       "|  update_item_status_on_return |\n",
       "|  generate_fine_on_late_return |\n",
       "+-------------------------------+"
      ]
     },
     "execution_count": 31,
     "metadata": {},
     "output_type": "execute_result"
    }
   ],
   "source": [
    "%%sql\n",
    "SELECT name FROM sqlite_master WHERE type = 'trigger';\n"
   ]
  },
  {
   "cell_type": "code",
   "execution_count": null,
   "id": "6c33a212-0dad-42af-bce9-ae102aa1d74b",
   "metadata": {},
   "outputs": [],
   "source": [
    "%%sql\n",
    "INSERT INTO User (UserID, Email, Preference) \n",
    "VALUES \n",
    "    (1, 'alice.brown@example.com'),\n",
    "    (2,  'bob.smith@example.com'),\n",
    "    (3, 'carol.jones@example.com'),\n",
    "    (4, 'dave.wilson@example.com'),\n",
    "    (5, 'eve.davis@example.com'),\n",
    "    (6,  'frank.miller@example.com'),\n",
    "    (7,  'grace.lee@example.com'),\n",
    "    (8,'henry.taylor@example.com'),\n",
    "    (9, 'ivy.anderson@example.com'),\n",
    "    (10,  'jack.thomas@example.com');\n"
   ]
  },
  {
   "cell_type": "code",
   "execution_count": null,
   "id": "7134c4ce",
   "metadata": {},
   "outputs": [],
   "source": [
    "%%sql\n",
    "INSERT INTO Item (ItemID, Title, Type, Author, Status) \n",
    "VALUES \n",
    "    (101, 'The Great Gatsby', 'Book', 'F. Scott Fitzgerald', 'Available'),\n",
    "    (102, '1984', 'Book', 'George Orwell', 'Borrowed'),\n",
    "    (103, 'National Geographic', 'Magazine', 'Various', 'Available'),\n",
    "    (104, 'Time', 'Magazine', 'Various', 'Reserved'),\n",
    "    (105, 'Thriller', 'CD', 'Michael Jackson', 'Available'),\n",
    "    (106, 'Inception', 'DVD', 'Christopher Nolan', 'Available'),\n",
    "    (107, 'Learn Python', 'Online Book', 'John Doe', 'Available'),\n",
    "    (108, 'Interstellar Soundtrack', 'CD', 'Hans Zimmer', 'Borrowed'),\n",
    "    (109, 'The New Yorker', 'Magazine', 'Various', 'Available'),\n",
    "    (110, 'Science Journal', 'Scientific Journal', 'Various', 'Available');\n"
   ]
  },
  {
   "cell_type": "code",
   "execution_count": null,
   "id": "f82bf396",
   "metadata": {},
   "outputs": [],
   "source": [
    "%%sql \n",
    "INSERT INTO Loan (LoanID, UserID, ItemID, DueDate, Status) \n",
    "VALUES \n",
    "    (201, 1, 102, '2025-04-15', 'Borrowed'),\n",
    "    (202, 2, 105, '2025-04-20', 'Returned'),\n",
    "    (203, 3, 108, '2025-04-18', 'Borrowed'),\n",
    "    (204, 4, 101, '2025-04-12', 'Returned'),\n",
    "    (205, 5, 107, '2025-04-22', 'Borrowed'),\n",
    "    (206, 6, 106, '2025-04-16', 'Returned'),\n",
    "    (207, 7, 104, '2025-04-19', 'Borrowed'),\n",
    "    (208, 8, 103, '2025-04-17', 'Returned'),\n",
    "    (209, 9, 110, '2025-04-21', 'Borrowed'),\n",
    "    (210, 10, 109, '2025-04-25', 'Returned');\n"
   ]
  },
  {
   "cell_type": "code",
   "execution_count": null,
   "id": "2011f365",
   "metadata": {},
   "outputs": [],
   "source": [
    "%%sql\n",
    "INSERT INTO Fine (FineID, LoanID, Amount, Status) \n",
    "VALUES \n",
    "    (301, 201, 10.00, 'Unpaid'),\n",
    "    (302, 202, 0.00, 'Paid'),\n",
    "    (303, 203, 5.00, 'Unpaid'),\n",
    "    (304, 204, 0.00, 'Paid'),\n",
    "    (305, 205, 0.00, 'Paid'),\n",
    "    (306, 206, 0.00, 'Paid'),\n",
    "    (307, 207, 3.50, 'Unpaid'),\n",
    "    (308, 208, 0.00, 'Paid'),\n",
    "    (309, 209, 8.00, 'Unpaid'),\n",
    "    (310, 210, 0.00, 'Paid');\n"
   ]
  },
  {
   "cell_type": "code",
   "execution_count": null,
   "id": "60dff251",
   "metadata": {},
   "outputs": [],
   "source": [
    "%%sql\n",
    "INSERT INTO Event (EventID, Type, RoomID) \n",
    "VALUES \n",
    "    (401, 'Book Club', 1),\n",
    "    (402, 'Film Screening', 2),\n",
    "    (403, 'Art Show', 3),\n",
    "    (404, 'Tech Talk', 4),\n",
    "    (405, 'Cooking Class', 5),\n",
    "    (406, 'History Lecture', 2),\n",
    "    (407, 'Science Seminar', 3),\n",
    "    (408, 'Music Concert', 1),\n",
    "    (409, 'Poetry Reading', 4),\n",
    "    (410, 'Children Storytime', 5);\n"
   ]
  },
  {
   "cell_type": "code",
   "execution_count": null,
   "id": "9a381050",
   "metadata": {},
   "outputs": [],
   "source": [
    "%%sql\n",
    "INSERT INTO Room (RoomID, Capacity) \n",
    "VALUES \n",
    "    (1, 30),\n",
    "    (2, 50),\n",
    "    (3, 40),\n",
    "    (4, 25),\n",
    "    (5, 20),\n",
    "    (6, 60),\n",
    "    (7, 15),\n",
    "    (8, 35),\n",
    "    (9, 45),\n",
    "    (10, 55);\n"
   ]
  },
  {
   "cell_type": "code",
   "execution_count": null,
   "id": "56e7a05f",
   "metadata": {},
   "outputs": [],
   "source": [
    "%%sql \n",
    "INSERT INTO Personnel (StaffID, Name, Position, Salary) \n",
    "VALUES \n",
    "    (501, 'Alice Johnson', 'Librarian', 45000),\n",
    "    (502, 'Bob Williams', 'Event Manager', 40000),\n",
    "    (503, 'Carol King', 'Assistant Librarian', 35000),\n",
    "    (504, 'David Smith', 'Archivist', 38000),\n",
    "    (505, 'Eva Brown', 'Digital Resource Manager', 42000),\n",
    "    (506, 'Frank Davis', 'Security', 30000),\n",
    "    (507, 'Grace Lee', 'Custodian', 28000),\n",
    "    (508, 'Henry Taylor', 'Technician', 32000),\n",
    "    (509, 'Ivy Anderson', 'Event Coordinator', 41000),\n",
    "    (510, 'Jack Thomas', 'Manager', 50000);\n"
   ]
  }
 ],
 "metadata": {
  "kernelspec": {
   "display_name": "Python [conda env:base] *",
   "language": "python",
   "name": "conda-base-py"
  },
  "language_info": {
   "codemirror_mode": {
    "name": "ipython",
    "version": 3
   },
   "file_extension": ".py",
   "mimetype": "text/x-python",
   "name": "python",
   "nbconvert_exporter": "python",
   "pygments_lexer": "ipython3",
   "version": "3.12.2"
  }
 },
 "nbformat": 4,
 "nbformat_minor": 5
}
