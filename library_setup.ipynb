{
 "cells": [
  {
   "cell_type": "code",
   "execution_count": 1,
   "id": "957cc8f0-eadc-4709-a10d-4c7fa4596911",
   "metadata": {},
   "outputs": [
    {
     "data": {
      "text/html": [
       "<span style=\"None\">displaylimit: Value None will be treated as 0 (no limit)</span>"
      ],
      "text/plain": [
       "displaylimit: Value None will be treated as 0 (no limit)"
      ]
     },
     "metadata": {},
     "output_type": "display_data"
    }
   ],
   "source": [
    "%reload_ext sql\n",
    "%config SqlMagic.displaylimit = None"
   ]
  },
  {
   "cell_type": "code",
   "execution_count": 3,
   "id": "24633b8c-2a0d-4034-afac-4d74f59355b8",
   "metadata": {},
   "outputs": [
    {
     "data": {
      "text/html": [
       "<span style=\"None\">Connecting to &#x27;sqlite:///library.db&#x27;</span>"
      ],
      "text/plain": [
       "Connecting to 'sqlite:///library.db'"
      ]
     },
     "metadata": {},
     "output_type": "display_data"
    }
   ],
   "source": [
    "%sql sqlite:///library.db"
   ]
  },
  {
   "cell_type": "markdown",
   "id": "fb3b88a4-bfaa-4dd1-b5b4-315fb4fbcf24",
   "metadata": {},
   "source": [
    "**TABLE**"
   ]
  },
  {
   "cell_type": "code",
   "execution_count": 6,
   "id": "f2507d8a-e2eb-419d-9a0a-45bae52aa86a",
   "metadata": {},
   "outputs": [
    {
     "data": {
      "text/html": [
       "<span style=\"None\">Running query in &#x27;sqlite:///library.db&#x27;</span>"
      ],
      "text/plain": [
       "Running query in 'sqlite:///library.db'"
      ]
     },
     "metadata": {},
     "output_type": "display_data"
    },
    {
     "data": {
      "text/html": [
       "<table>\n",
       "    <thead>\n",
       "        <tr>\n",
       "        </tr>\n",
       "    </thead>\n",
       "    <tbody>\n",
       "    </tbody>\n",
       "</table>"
      ],
      "text/plain": [
       "++\n",
       "||\n",
       "++\n",
       "++"
      ]
     },
     "execution_count": 6,
     "metadata": {},
     "output_type": "execute_result"
    }
   ],
   "source": [
    "%%sql\n",
    "CREATE TABLE User (\n",
    "    userID INTEGER PRIMARY KEY AUTOINCREMENT,\n",
    "    preference CHAR(50),\n",
    "    email CHAR(50) NOT NULL UNIQUE CHECK(email LIKE '%@%.%')\n",
    ");"
   ]
  },
  {
   "cell_type": "code",
   "execution_count": 8,
   "id": "514c561c-33c4-4aa7-86da-ce61391767a4",
   "metadata": {},
   "outputs": [
    {
     "data": {
      "text/html": [
       "<span style=\"None\">Running query in &#x27;sqlite:///library.db&#x27;</span>"
      ],
      "text/plain": [
       "Running query in 'sqlite:///library.db'"
      ]
     },
     "metadata": {},
     "output_type": "display_data"
    },
    {
     "data": {
      "text/html": [
       "<table>\n",
       "    <thead>\n",
       "        <tr>\n",
       "        </tr>\n",
       "    </thead>\n",
       "    <tbody>\n",
       "    </tbody>\n",
       "</table>"
      ],
      "text/plain": [
       "++\n",
       "||\n",
       "++\n",
       "++"
      ]
     },
     "execution_count": 8,
     "metadata": {},
     "output_type": "execute_result"
    }
   ],
   "source": [
    "%%sql\n",
    "CREATE TABLE IF NOT EXISTS Item (\n",
    "    ItemID INTEGER PRIMARY KEY AUTOINCREMENT,\n",
    "    title CHAR(50) NOT NULL,\n",
    "    type CHAR(50) NOT NULL,\n",
    "    author CHAR(50),\n",
    "    status CHAR(50)\n",
    ");\n"
   ]
  },
  {
   "cell_type": "code",
   "execution_count": 10,
   "id": "0aeb11c5-12f1-4df1-a4d9-ce7a74e0c4f3",
   "metadata": {},
   "outputs": [
    {
     "data": {
      "text/html": [
       "<span style=\"None\">Running query in &#x27;sqlite:///library.db&#x27;</span>"
      ],
      "text/plain": [
       "Running query in 'sqlite:///library.db'"
      ]
     },
     "metadata": {},
     "output_type": "display_data"
    },
    {
     "data": {
      "text/html": [
       "<table>\n",
       "    <thead>\n",
       "        <tr>\n",
       "        </tr>\n",
       "    </thead>\n",
       "    <tbody>\n",
       "    </tbody>\n",
       "</table>"
      ],
      "text/plain": [
       "++\n",
       "||\n",
       "++\n",
       "++"
      ]
     },
     "execution_count": 10,
     "metadata": {},
     "output_type": "execute_result"
    }
   ],
   "source": [
    "%%sql\n",
    "CREATE TABLE IF NOT EXISTS CD (\n",
    "    ItemID INTEGER PRIMARY KEY,\n",
    "    duration INTEGER NOT NULL,\n",
    "    FOREIGN KEY (ItemID) REFERENCES Item (ItemID) ON DELETE CASCADE\n",
    ");\n"
   ]
  },
  {
   "cell_type": "code",
   "execution_count": 12,
   "id": "f987ea40-a5ee-44c5-a6b7-ac0829588cc7",
   "metadata": {},
   "outputs": [
    {
     "data": {
      "text/html": [
       "<span style=\"None\">Running query in &#x27;sqlite:///library.db&#x27;</span>"
      ],
      "text/plain": [
       "Running query in 'sqlite:///library.db'"
      ]
     },
     "metadata": {},
     "output_type": "display_data"
    },
    {
     "data": {
      "text/html": [
       "<table>\n",
       "    <thead>\n",
       "        <tr>\n",
       "        </tr>\n",
       "    </thead>\n",
       "    <tbody>\n",
       "    </tbody>\n",
       "</table>"
      ],
      "text/plain": [
       "++\n",
       "||\n",
       "++\n",
       "++"
      ]
     },
     "execution_count": 12,
     "metadata": {},
     "output_type": "execute_result"
    }
   ],
   "source": [
    "%%sql\n",
    "CREATE TABLE IF NOT EXISTS OnlineItem (\n",
    "    ItemID INTEGER PRIMARY KEY,\n",
    "    url CHAR(50) NOT NULL,\n",
    "    FOREIGN KEY (ItemID) REFERENCES Item (ItemID) ON DELETE CASCADE\n",
    ");\n"
   ]
  },
  {
   "cell_type": "code",
   "execution_count": 14,
   "id": "503f0a82-6e28-4681-b028-973bb8c43a34",
   "metadata": {},
   "outputs": [
    {
     "data": {
      "text/html": [
       "<span style=\"None\">Running query in &#x27;sqlite:///library.db&#x27;</span>"
      ],
      "text/plain": [
       "Running query in 'sqlite:///library.db'"
      ]
     },
     "metadata": {},
     "output_type": "display_data"
    },
    {
     "data": {
      "text/html": [
       "<table>\n",
       "    <thead>\n",
       "        <tr>\n",
       "        </tr>\n",
       "    </thead>\n",
       "    <tbody>\n",
       "    </tbody>\n",
       "</table>"
      ],
      "text/plain": [
       "++\n",
       "||\n",
       "++\n",
       "++"
      ]
     },
     "execution_count": 14,
     "metadata": {},
     "output_type": "execute_result"
    }
   ],
   "source": [
    "%%sql\n",
    "CREATE TABLE IF NOT EXISTS Loan (\n",
    "    LoanID INTEGER PRIMARY KEY AUTOINCREMENT,\n",
    "    due DATE NOT NULL,\n",
    "    userID INTEGER NOT NULL,\n",
    "    ItemID INTEGER NOT NULL,\n",
    "    FOREIGN KEY (userID) REFERENCES User (userID) ON DELETE CASCADE,\n",
    "    FOREIGN KEY (ItemID) REFERENCES Item (ItemID) ON DELETE CASCADE\n",
    ");\n"
   ]
  },
  {
   "cell_type": "code",
   "execution_count": 16,
   "id": "99608a83-ebc9-4695-9342-67d2c7181c5c",
   "metadata": {},
   "outputs": [
    {
     "data": {
      "text/html": [
       "<span style=\"None\">Running query in &#x27;sqlite:///library.db&#x27;</span>"
      ],
      "text/plain": [
       "Running query in 'sqlite:///library.db'"
      ]
     },
     "metadata": {},
     "output_type": "display_data"
    },
    {
     "data": {
      "text/html": [
       "<table>\n",
       "    <thead>\n",
       "        <tr>\n",
       "        </tr>\n",
       "    </thead>\n",
       "    <tbody>\n",
       "    </tbody>\n",
       "</table>"
      ],
      "text/plain": [
       "++\n",
       "||\n",
       "++\n",
       "++"
      ]
     },
     "execution_count": 16,
     "metadata": {},
     "output_type": "execute_result"
    }
   ],
   "source": [
    "%%sql\n",
    "CREATE TABLE IF NOT EXISTS Borrows (\n",
    "    userID INTEGER NOT NULL,\n",
    "    LoanID INTEGER NOT NULL,\n",
    "    PRIMARY KEY (userID, LoanID),\n",
    "    FOREIGN KEY (userID) REFERENCES User (userID) ON DELETE CASCADE,\n",
    "    FOREIGN KEY (LoanID) REFERENCES Loan (LoanID) ON DELETE CASCADE\n",
    ");\n"
   ]
  },
  {
   "cell_type": "code",
   "execution_count": 18,
   "id": "11ef8f26-7c3f-4c14-878d-c5d2788efd47",
   "metadata": {
    "scrolled": true
   },
   "outputs": [
    {
     "data": {
      "text/html": [
       "<span style=\"None\">Running query in &#x27;sqlite:///library.db&#x27;</span>"
      ],
      "text/plain": [
       "Running query in 'sqlite:///library.db'"
      ]
     },
     "metadata": {},
     "output_type": "display_data"
    },
    {
     "data": {
      "text/html": [
       "<table>\n",
       "    <thead>\n",
       "        <tr>\n",
       "        </tr>\n",
       "    </thead>\n",
       "    <tbody>\n",
       "    </tbody>\n",
       "</table>"
      ],
      "text/plain": [
       "++\n",
       "||\n",
       "++\n",
       "++"
      ]
     },
     "execution_count": 18,
     "metadata": {},
     "output_type": "execute_result"
    }
   ],
   "source": [
    "%%sql \n",
    "CREATE TABLE IF NOT EXISTS Fine (\n",
    "    LoanID INTEGER PRIMARY KEY,\n",
    "    amount DECIMAL(10,2) NOT NULL CHECK(amount >= 0),\n",
    "    status CHAR(50) CHECK(status IN ('Unpaid', 'Paid')),\n",
    "    FOREIGN KEY (LoanID) REFERENCES Loan (LoanID) ON DELETE CASCADE\n",
    ");\n"
   ]
  },
  {
   "cell_type": "code",
   "execution_count": 20,
   "id": "28ccf21a-1314-42cc-8be2-06503e3a428f",
   "metadata": {},
   "outputs": [
    {
     "data": {
      "text/html": [
       "<span style=\"None\">Running query in &#x27;sqlite:///library.db&#x27;</span>"
      ],
      "text/plain": [
       "Running query in 'sqlite:///library.db'"
      ]
     },
     "metadata": {},
     "output_type": "display_data"
    },
    {
     "data": {
      "text/html": [
       "<table>\n",
       "    <thead>\n",
       "        <tr>\n",
       "        </tr>\n",
       "    </thead>\n",
       "    <tbody>\n",
       "    </tbody>\n",
       "</table>"
      ],
      "text/plain": [
       "++\n",
       "||\n",
       "++\n",
       "++"
      ]
     },
     "execution_count": 20,
     "metadata": {},
     "output_type": "execute_result"
    }
   ],
   "source": [
    "%%sql\n",
    "CREATE TABLE IF NOT EXISTS Event (\n",
    "    EventID INTEGER PRIMARY KEY AUTOINCREMENT,\n",
    "    type CHAR(50) NOT NULL,\n",
    "    roomID INTEGER,\n",
    "    FOREIGN KEY (roomID) REFERENCES Room(roomID) ON DELETE CASCADE\n",
    ");\n"
   ]
  },
  {
   "cell_type": "code",
   "execution_count": 22,
   "id": "b147e469-01ca-4de1-a51d-c90b0ddd2b6f",
   "metadata": {},
   "outputs": [
    {
     "data": {
      "text/html": [
       "<span style=\"None\">Running query in &#x27;sqlite:///library.db&#x27;</span>"
      ],
      "text/plain": [
       "Running query in 'sqlite:///library.db'"
      ]
     },
     "metadata": {},
     "output_type": "display_data"
    },
    {
     "data": {
      "text/html": [
       "<table>\n",
       "    <thead>\n",
       "        <tr>\n",
       "        </tr>\n",
       "    </thead>\n",
       "    <tbody>\n",
       "    </tbody>\n",
       "</table>"
      ],
      "text/plain": [
       "++\n",
       "||\n",
       "++\n",
       "++"
      ]
     },
     "execution_count": 22,
     "metadata": {},
     "output_type": "execute_result"
    }
   ],
   "source": [
    "%%sql\n",
    "CREATE TABLE IF NOT EXISTS Attends (\n",
    "    userID INTEGER NOT NULL,\n",
    "    EventID INTEGER NOT NULL,\n",
    "    PRIMARY KEY (userID, EventID),\n",
    "    FOREIGN KEY (userID) REFERENCES User (userID) ON DELETE CASCADE,\n",
    "    FOREIGN KEY (EventID) REFERENCES Event (EventID) ON DELETE CASCADE\n",
    ");\n"
   ]
  },
  {
   "cell_type": "code",
   "execution_count": 24,
   "id": "9b9ed97f-4ccb-46b3-913d-4fa6ad376d47",
   "metadata": {},
   "outputs": [
    {
     "data": {
      "text/html": [
       "<span style=\"None\">Running query in &#x27;sqlite:///library.db&#x27;</span>"
      ],
      "text/plain": [
       "Running query in 'sqlite:///library.db'"
      ]
     },
     "metadata": {},
     "output_type": "display_data"
    },
    {
     "data": {
      "text/html": [
       "<table>\n",
       "    <thead>\n",
       "        <tr>\n",
       "        </tr>\n",
       "    </thead>\n",
       "    <tbody>\n",
       "    </tbody>\n",
       "</table>"
      ],
      "text/plain": [
       "++\n",
       "||\n",
       "++\n",
       "++"
      ]
     },
     "execution_count": 24,
     "metadata": {},
     "output_type": "execute_result"
    }
   ],
   "source": [
    "%%sql\n",
    "CREATE TABLE IF NOT EXISTS Room (\n",
    "    roomID INTEGER PRIMARY KEY AUTOINCREMENT,\n",
    "    capacity INTEGER NOT NULL\n",
    ");\n"
   ]
  },
  {
   "cell_type": "code",
   "execution_count": 26,
   "id": "0ace2bdb-0804-4ba1-a7b7-b8cb0e3ae674",
   "metadata": {},
   "outputs": [
    {
     "data": {
      "text/html": [
       "<span style=\"None\">Running query in &#x27;sqlite:///library.db&#x27;</span>"
      ],
      "text/plain": [
       "Running query in 'sqlite:///library.db'"
      ]
     },
     "metadata": {},
     "output_type": "display_data"
    },
    {
     "data": {
      "text/html": [
       "<table>\n",
       "    <thead>\n",
       "        <tr>\n",
       "        </tr>\n",
       "    </thead>\n",
       "    <tbody>\n",
       "    </tbody>\n",
       "</table>"
      ],
      "text/plain": [
       "++\n",
       "||\n",
       "++\n",
       "++"
      ]
     },
     "execution_count": 26,
     "metadata": {},
     "output_type": "execute_result"
    }
   ],
   "source": [
    "%%sql\n",
    "CREATE TABLE IF NOT EXISTS Uses (\n",
    "    EventID INTEGER NOT NULL,\n",
    "    roomID INTEGER NOT NULL,\n",
    "    PRIMARY KEY (EventID, roomID),\n",
    "    FOREIGN KEY (EventID) REFERENCES Event (EventID) ON DELETE CASCADE,\n",
    "    FOREIGN KEY (roomID) REFERENCES Room (roomID) ON DELETE CASCADE\n",
    ");\n"
   ]
  },
  {
   "cell_type": "code",
   "execution_count": 28,
   "id": "532be1fb-f7fc-47f2-8892-ebd6b065f9ce",
   "metadata": {},
   "outputs": [
    {
     "data": {
      "text/html": [
       "<span style=\"None\">Running query in &#x27;sqlite:///library.db&#x27;</span>"
      ],
      "text/plain": [
       "Running query in 'sqlite:///library.db'"
      ]
     },
     "metadata": {},
     "output_type": "display_data"
    },
    {
     "data": {
      "text/html": [
       "<table>\n",
       "    <thead>\n",
       "        <tr>\n",
       "        </tr>\n",
       "    </thead>\n",
       "    <tbody>\n",
       "    </tbody>\n",
       "</table>"
      ],
      "text/plain": [
       "++\n",
       "||\n",
       "++\n",
       "++"
      ]
     },
     "execution_count": 28,
     "metadata": {},
     "output_type": "execute_result"
    }
   ],
   "source": [
    "%%sql\n",
    "CREATE TABLE IF NOT EXISTS Personnel (\n",
    "    staffID INTEGER PRIMARY KEY AUTOINCREMENT,\n",
    "    name CHAR(50) NOT NULL,\n",
    "    position CHAR(50) NOT NULL,\n",
    "    salary DECIMAL(10,2) NOT NULL CHECK (salary > 0)\n",
    ");\n"
   ]
  },
  {
   "cell_type": "code",
   "execution_count": 30,
   "id": "8ebd20b2-c19f-40b2-b020-ea226c93265e",
   "metadata": {},
   "outputs": [
    {
     "data": {
      "text/html": [
       "<span style=\"None\">Running query in &#x27;sqlite:///library.db&#x27;</span>"
      ],
      "text/plain": [
       "Running query in 'sqlite:///library.db'"
      ]
     },
     "metadata": {},
     "output_type": "display_data"
    },
    {
     "data": {
      "text/html": [
       "<table>\n",
       "    <thead>\n",
       "        <tr>\n",
       "        </tr>\n",
       "    </thead>\n",
       "    <tbody>\n",
       "    </tbody>\n",
       "</table>"
      ],
      "text/plain": [
       "++\n",
       "||\n",
       "++\n",
       "++"
      ]
     },
     "execution_count": 30,
     "metadata": {},
     "output_type": "execute_result"
    }
   ],
   "source": [
    "%%sql\n",
    "CREATE TABLE IF NOT EXISTS Manages (\n",
    "    staffID INTEGER NOT NULL,\n",
    "    EventID INTEGER NOT NULL,\n",
    "    PRIMARY KEY (staffID, EventID),\n",
    "    FOREIGN KEY (staffID) REFERENCES Personnel (staffID) ON DELETE CASCADE,\n",
    "    FOREIGN KEY (EventID) REFERENCES Event (EventID) ON DELETE CASCADE\n",
    ");\n"
   ]
  },
  {
   "cell_type": "code",
   "execution_count": 32,
   "id": "654af23a-8c16-441b-ac17-aa66b9a6e018",
   "metadata": {},
   "outputs": [
    {
     "data": {
      "text/html": [
       "<span style=\"None\">Running query in &#x27;sqlite:///library.db&#x27;</span>"
      ],
      "text/plain": [
       "Running query in 'sqlite:///library.db'"
      ]
     },
     "metadata": {},
     "output_type": "display_data"
    },
    {
     "data": {
      "text/html": [
       "<table>\n",
       "    <thead>\n",
       "        <tr>\n",
       "        </tr>\n",
       "    </thead>\n",
       "    <tbody>\n",
       "    </tbody>\n",
       "</table>"
      ],
      "text/plain": [
       "++\n",
       "||\n",
       "++\n",
       "++"
      ]
     },
     "execution_count": 32,
     "metadata": {},
     "output_type": "execute_result"
    }
   ],
   "source": [
    "%%sql\n",
    "CREATE TABLE IF NOT EXISTS NotificationQueue (\n",
    "    notificationID INTEGER PRIMARY KEY AUTOINCREMENT,\n",
    "    userID INTEGER NOT NULL,\n",
    "    eventID INTEGER NOT NULL,\n",
    "    email CHAR(50) NOT NULL,\n",
    "    message CHAR(50) NOT NULL,\n",
    "    status CHAR(50) DEFAULT 'Pending' CHECK(status IN ('Pending', 'Sent')),\n",
    "    FOREIGN KEY (userID) REFERENCES User(userID),\n",
    "    FOREIGN KEY (eventID) REFERENCES Event(eventID)\n",
    ");\n"
   ]
  },
  {
   "cell_type": "code",
   "execution_count": 34,
   "id": "f42b39b8-6882-464e-b4d6-074756d34084",
   "metadata": {},
   "outputs": [
    {
     "data": {
      "text/html": [
       "<span style=\"None\">Running query in &#x27;sqlite:///library.db&#x27;</span>"
      ],
      "text/plain": [
       "Running query in 'sqlite:///library.db'"
      ]
     },
     "metadata": {},
     "output_type": "display_data"
    },
    {
     "data": {
      "text/html": [
       "<table>\n",
       "    <thead>\n",
       "        <tr>\n",
       "        </tr>\n",
       "    </thead>\n",
       "    <tbody>\n",
       "    </tbody>\n",
       "</table>"
      ],
      "text/plain": [
       "++\n",
       "||\n",
       "++\n",
       "++"
      ]
     },
     "execution_count": 34,
     "metadata": {},
     "output_type": "execute_result"
    }
   ],
   "source": [
    "%%sql\n",
    "CREATE TABLE IF NOT EXISTS HelpRequests (\n",
    "    requestID INTEGER PRIMARY KEY AUTOINCREMENT,\n",
    "    email CHAR(50) NOT NULL,\n",
    "    message CHAR(50) NOT NULL\n",
    ");\n"
   ]
  },
  {
   "cell_type": "code",
   "execution_count": 36,
   "id": "8568a512-6751-45bf-98c2-08124d7f6a2b",
   "metadata": {},
   "outputs": [
    {
     "data": {
      "text/html": [
       "<span style=\"None\">Running query in &#x27;sqlite:///library.db&#x27;</span>"
      ],
      "text/plain": [
       "Running query in 'sqlite:///library.db'"
      ]
     },
     "metadata": {},
     "output_type": "display_data"
    },
    {
     "data": {
      "text/html": [
       "<table>\n",
       "    <thead>\n",
       "        <tr>\n",
       "            <th>name</th>\n",
       "        </tr>\n",
       "    </thead>\n",
       "    <tbody>\n",
       "        <tr>\n",
       "            <td>User</td>\n",
       "        </tr>\n",
       "        <tr>\n",
       "            <td>sqlite_sequence</td>\n",
       "        </tr>\n",
       "        <tr>\n",
       "            <td>Item</td>\n",
       "        </tr>\n",
       "        <tr>\n",
       "            <td>CD</td>\n",
       "        </tr>\n",
       "        <tr>\n",
       "            <td>OnlineItem</td>\n",
       "        </tr>\n",
       "        <tr>\n",
       "            <td>Loan</td>\n",
       "        </tr>\n",
       "        <tr>\n",
       "            <td>Borrows</td>\n",
       "        </tr>\n",
       "        <tr>\n",
       "            <td>Fine</td>\n",
       "        </tr>\n",
       "        <tr>\n",
       "            <td>Event</td>\n",
       "        </tr>\n",
       "        <tr>\n",
       "            <td>Attends</td>\n",
       "        </tr>\n",
       "        <tr>\n",
       "            <td>Room</td>\n",
       "        </tr>\n",
       "        <tr>\n",
       "            <td>Uses</td>\n",
       "        </tr>\n",
       "        <tr>\n",
       "            <td>Personnel</td>\n",
       "        </tr>\n",
       "        <tr>\n",
       "            <td>Manages</td>\n",
       "        </tr>\n",
       "        <tr>\n",
       "            <td>NotificationQueue</td>\n",
       "        </tr>\n",
       "        <tr>\n",
       "            <td>HelpRequests</td>\n",
       "        </tr>\n",
       "    </tbody>\n",
       "</table>"
      ],
      "text/plain": [
       "+-------------------+\n",
       "|        name       |\n",
       "+-------------------+\n",
       "|        User       |\n",
       "|  sqlite_sequence  |\n",
       "|        Item       |\n",
       "|         CD        |\n",
       "|     OnlineItem    |\n",
       "|        Loan       |\n",
       "|      Borrows      |\n",
       "|        Fine       |\n",
       "|       Event       |\n",
       "|      Attends      |\n",
       "|        Room       |\n",
       "|        Uses       |\n",
       "|     Personnel     |\n",
       "|      Manages      |\n",
       "| NotificationQueue |\n",
       "|    HelpRequests   |\n",
       "+-------------------+"
      ]
     },
     "execution_count": 36,
     "metadata": {},
     "output_type": "execute_result"
    }
   ],
   "source": [
    "%%sql \n",
    "SELECT name FROM sqlite_master WHERE type='table';\n"
   ]
  },
  {
   "cell_type": "markdown",
   "id": "d25bcd9d-0d0a-44b3-b4d7-a44f717cb2d5",
   "metadata": {},
   "source": [
    "**VALUE**"
   ]
  },
  {
   "cell_type": "code",
   "execution_count": 39,
   "id": "34fcb460-d163-444d-ad83-71018fa0d273",
   "metadata": {},
   "outputs": [
    {
     "data": {
      "text/html": [
       "<span style=\"None\">Running query in &#x27;sqlite:///library.db&#x27;</span>"
      ],
      "text/plain": [
       "Running query in 'sqlite:///library.db'"
      ]
     },
     "metadata": {},
     "output_type": "display_data"
    },
    {
     "data": {
      "text/html": [
       "<span style=\"color: green\">10 rows affected.</span>"
      ],
      "text/plain": [
       "10 rows affected."
      ]
     },
     "metadata": {},
     "output_type": "display_data"
    },
    {
     "data": {
      "text/html": [
       "<table>\n",
       "    <thead>\n",
       "        <tr>\n",
       "        </tr>\n",
       "    </thead>\n",
       "    <tbody>\n",
       "    </tbody>\n",
       "</table>"
      ],
      "text/plain": [
       "++\n",
       "||\n",
       "++\n",
       "++"
      ]
     },
     "execution_count": 39,
     "metadata": {},
     "output_type": "execute_result"
    }
   ],
   "source": [
    "%%sql\n",
    "INSERT INTO User (userID, email, preference)\n",
    "VALUES\n",
    "    (1, 'alice.brown@example.com', 'Book Club'),\n",
    "    (2, 'bob.smith@example.com', 'Book Club'),\n",
    "    (3, 'carol.jones@example.com', 'Film Screening'),\n",
    "    (4, 'dave.wilson@example.com', 'Art Show'),\n",
    "    (5, 'eve.davis@example.com', 'Book Club'),\n",
    "    (6, 'frank.miller@example.com', 'Art Show'),\n",
    "    (7, 'grace.lee@example.com', 'Film Screening'),\n",
    "    (8, 'henry.taylor@example.com', 'Book Club'),\n",
    "    (9, 'ivy.anderson@example.com', 'Art Show'),\n",
    "    (10, 'jack.thomas@example.com', 'Book Club');\n"
   ]
  },
  {
   "cell_type": "code",
   "execution_count": 41,
   "id": "fe9b265e-84e4-443d-8c03-2741e5aafc92",
   "metadata": {},
   "outputs": [
    {
     "data": {
      "text/html": [
       "<span style=\"None\">Running query in &#x27;sqlite:///library.db&#x27;</span>"
      ],
      "text/plain": [
       "Running query in 'sqlite:///library.db'"
      ]
     },
     "metadata": {},
     "output_type": "display_data"
    },
    {
     "data": {
      "text/html": [
       "<span style=\"color: green\">10 rows affected.</span>"
      ],
      "text/plain": [
       "10 rows affected."
      ]
     },
     "metadata": {},
     "output_type": "display_data"
    },
    {
     "data": {
      "text/html": [
       "<table>\n",
       "    <thead>\n",
       "        <tr>\n",
       "        </tr>\n",
       "    </thead>\n",
       "    <tbody>\n",
       "    </tbody>\n",
       "</table>"
      ],
      "text/plain": [
       "++\n",
       "||\n",
       "++\n",
       "++"
      ]
     },
     "execution_count": 41,
     "metadata": {},
     "output_type": "execute_result"
    }
   ],
   "source": [
    "%%sql\n",
    "INSERT INTO Item (ItemID, Title, Type, Author, Status)\n",
    "VALUES\n",
    "    (101, 'The Great Gatsby', 'Book', 'F. Scott Fitzgerald', 'Available'),\n",
    "    (102, '1984', 'Book', 'George Orwell', 'Borrowed'),\n",
    "    (103, 'National Geographic', 'Magazine', 'Various', 'Available'),\n",
    "    (104, 'Time', 'Magazine', 'Various', 'Reserved'),\n",
    "    (105, 'Thriller', 'CD', 'Michael Jackson', 'Available'),\n",
    "    (106, 'Inception', 'DVD', 'Christopher Nolan', 'Available'),\n",
    "    (107, 'Learn Python', 'Online Book', 'John Doe', 'Available'),\n",
    "    (108, 'Interstellar Soundtrack', 'CD', 'Hans Zimmer', 'Borrowed'),\n",
    "    (109, 'The New Yorker', 'Magazine', 'Various', 'Available'),\n",
    "    (110, 'Science Journal', 'Scientific Journal', 'Various', 'Available');"
   ]
  },
  {
   "cell_type": "code",
   "execution_count": 43,
   "id": "056737d0-a14e-42d3-8ff4-660a33cef7f7",
   "metadata": {},
   "outputs": [
    {
     "data": {
      "text/html": [
       "<span style=\"None\">Running query in &#x27;sqlite:///library.db&#x27;</span>"
      ],
      "text/plain": [
       "Running query in 'sqlite:///library.db'"
      ]
     },
     "metadata": {},
     "output_type": "display_data"
    },
    {
     "data": {
      "text/html": [
       "<span style=\"color: green\">10 rows affected.</span>"
      ],
      "text/plain": [
       "10 rows affected."
      ]
     },
     "metadata": {},
     "output_type": "display_data"
    },
    {
     "data": {
      "text/html": [
       "<table>\n",
       "    <thead>\n",
       "        <tr>\n",
       "        </tr>\n",
       "    </thead>\n",
       "    <tbody>\n",
       "    </tbody>\n",
       "</table>"
      ],
      "text/plain": [
       "++\n",
       "||\n",
       "++\n",
       "++"
      ]
     },
     "execution_count": 43,
     "metadata": {},
     "output_type": "execute_result"
    }
   ],
   "source": [
    "%%sql\n",
    "INSERT INTO Loan (LoanID, UserID, ItemID, due)\n",
    "VALUES\n",
    "    (201, 1, 102, '2025-04-15'),\n",
    "    (202, 2, 105, '2025-04-20'),\n",
    "    (203, 3, 108, '2025-04-18'),\n",
    "    (204, 4, 101, '2025-04-12'),\n",
    "    (205, 5, 107, '2025-04-22'),\n",
    "    (206, 6, 106, '2025-04-16'),\n",
    "    (207, 7, 104, '2025-04-19'),\n",
    "    (208, 8, 103, '2025-04-17'),\n",
    "    (209, 9, 110, '2025-04-21'),\n",
    "    (210, 10, 109, '2025-04-25');\n"
   ]
  },
  {
   "cell_type": "code",
   "execution_count": 45,
   "id": "d9e5b625-88cb-4ce2-b6f9-034a6a14c233",
   "metadata": {},
   "outputs": [
    {
     "data": {
      "text/html": [
       "<span style=\"None\">Running query in &#x27;sqlite:///library.db&#x27;</span>"
      ],
      "text/plain": [
       "Running query in 'sqlite:///library.db'"
      ]
     },
     "metadata": {},
     "output_type": "display_data"
    },
    {
     "data": {
      "text/html": [
       "<span style=\"color: green\">10 rows affected.</span>"
      ],
      "text/plain": [
       "10 rows affected."
      ]
     },
     "metadata": {},
     "output_type": "display_data"
    },
    {
     "data": {
      "text/html": [
       "<table>\n",
       "    <thead>\n",
       "        <tr>\n",
       "        </tr>\n",
       "    </thead>\n",
       "    <tbody>\n",
       "    </tbody>\n",
       "</table>"
      ],
      "text/plain": [
       "++\n",
       "||\n",
       "++\n",
       "++"
      ]
     },
     "execution_count": 45,
     "metadata": {},
     "output_type": "execute_result"
    }
   ],
   "source": [
    "%%sql\n",
    "INSERT INTO Fine (LoanID, Amount, Status)\n",
    "VALUES\n",
    "    (201, 10.00, 'Unpaid'),\n",
    "    (202, 0.00, 'Paid'),\n",
    "    (203, 5.00, 'Unpaid'),\n",
    "    (204, 0.00, 'Paid'),\n",
    "    (205, 0.00, 'Paid'),\n",
    "    (206, 0.00, 'Paid'),\n",
    "    (207, 3.00, 'Unpaid'),\n",
    "    (208, 0.00, 'Paid'),\n",
    "    (209, 8.00, 'Unpaid'),\n",
    "    (210, 0.00, 'Paid');"
   ]
  },
  {
   "cell_type": "code",
   "execution_count": 47,
   "id": "34b8fc45-2b65-488e-8de6-be1f79a6a1ab",
   "metadata": {},
   "outputs": [
    {
     "data": {
      "text/html": [
       "<span style=\"None\">Running query in &#x27;sqlite:///library.db&#x27;</span>"
      ],
      "text/plain": [
       "Running query in 'sqlite:///library.db'"
      ]
     },
     "metadata": {},
     "output_type": "display_data"
    },
    {
     "data": {
      "text/html": [
       "<span style=\"color: green\">10 rows affected.</span>"
      ],
      "text/plain": [
       "10 rows affected."
      ]
     },
     "metadata": {},
     "output_type": "display_data"
    },
    {
     "data": {
      "text/html": [
       "<table>\n",
       "    <thead>\n",
       "        <tr>\n",
       "        </tr>\n",
       "    </thead>\n",
       "    <tbody>\n",
       "    </tbody>\n",
       "</table>"
      ],
      "text/plain": [
       "++\n",
       "||\n",
       "++\n",
       "++"
      ]
     },
     "execution_count": 47,
     "metadata": {},
     "output_type": "execute_result"
    }
   ],
   "source": [
    "%%sql\n",
    "INSERT INTO Event (EventID, Type, RoomID)\n",
    "VALUES\n",
    "    (401, 'Book Club', 1),\n",
    "    (402, 'Film Screening', 2),\n",
    "    (403, 'Art Show', 3),\n",
    "    (404, 'Tech Talk', 4),\n",
    "    (405, 'Cooking Class', 5),\n",
    "    (406, 'History Lecture', 2),\n",
    "    (407, 'Science Seminar', 3),\n",
    "    (408, 'Music Concert', 1),\n",
    "    (409, 'Poetry Reading', 4),\n",
    "    (410, 'Children Storytime', 5);"
   ]
  },
  {
   "cell_type": "code",
   "execution_count": 49,
   "id": "906d3df8-1e13-425c-99fb-2781ba3ec451",
   "metadata": {},
   "outputs": [
    {
     "data": {
      "text/html": [
       "<span style=\"None\">Running query in &#x27;sqlite:///library.db&#x27;</span>"
      ],
      "text/plain": [
       "Running query in 'sqlite:///library.db'"
      ]
     },
     "metadata": {},
     "output_type": "display_data"
    },
    {
     "data": {
      "text/html": [
       "<span style=\"color: green\">10 rows affected.</span>"
      ],
      "text/plain": [
       "10 rows affected."
      ]
     },
     "metadata": {},
     "output_type": "display_data"
    },
    {
     "data": {
      "text/html": [
       "<table>\n",
       "    <thead>\n",
       "        <tr>\n",
       "        </tr>\n",
       "    </thead>\n",
       "    <tbody>\n",
       "    </tbody>\n",
       "</table>"
      ],
      "text/plain": [
       "++\n",
       "||\n",
       "++\n",
       "++"
      ]
     },
     "execution_count": 49,
     "metadata": {},
     "output_type": "execute_result"
    }
   ],
   "source": [
    "%%sql\n",
    "INSERT INTO Room (RoomID, Capacity)\n",
    "VALUES\n",
    "    (501, 30),\n",
    "    (502, 50),\n",
    "    (503, 40),\n",
    "    (504, 25),\n",
    "    (505, 20),\n",
    "    (506, 60),\n",
    "    (507, 15),\n",
    "    (508, 35),\n",
    "    (509, 45),\n",
    "    (510, 55);"
   ]
  },
  {
   "cell_type": "code",
   "execution_count": 51,
   "id": "be53db7d-4c48-4ffe-b1f2-a43acc30c275",
   "metadata": {},
   "outputs": [
    {
     "data": {
      "text/html": [
       "<span style=\"None\">Running query in &#x27;sqlite:///library.db&#x27;</span>"
      ],
      "text/plain": [
       "Running query in 'sqlite:///library.db'"
      ]
     },
     "metadata": {},
     "output_type": "display_data"
    },
    {
     "data": {
      "text/html": [
       "<span style=\"color: green\">10 rows affected.</span>"
      ],
      "text/plain": [
       "10 rows affected."
      ]
     },
     "metadata": {},
     "output_type": "display_data"
    },
    {
     "data": {
      "text/html": [
       "<table>\n",
       "    <thead>\n",
       "        <tr>\n",
       "        </tr>\n",
       "    </thead>\n",
       "    <tbody>\n",
       "    </tbody>\n",
       "</table>"
      ],
      "text/plain": [
       "++\n",
       "||\n",
       "++\n",
       "++"
      ]
     },
     "execution_count": 51,
     "metadata": {},
     "output_type": "execute_result"
    }
   ],
   "source": [
    "%%sql\n",
    "INSERT INTO Personnel (staffID, name, position, salary)\n",
    "VALUES\n",
    "    (601, 'Alice Zhang', 'Librarian', 52000.00),\n",
    "    (602, 'Bob Lee', 'Event Manager', 58000.00),\n",
    "    (603, 'Carol Wang', 'Event Manager', 50000.00),\n",
    "    (604, 'David Kim', 'Technician', 47000.00),\n",
    "    (605, 'Eve Liu', 'Assistant Librarian', 42000.00),\n",
    "    (606, 'Frank Chen', 'IT Support', 54000.00),\n",
    "    (607, 'Grace Huang', 'Head Librarian', 68000.00),\n",
    "    (608, 'Henry Zhao', 'Security Officer', 40000.00),\n",
    "    (609, 'Ivy Xu', 'Cataloging Specialist', 49000.00),\n",
    "    (610, 'Jack Ma', 'Volunteer Coordinator', 45000.00);\n"
   ]
  },
  {
   "cell_type": "code",
   "execution_count": 53,
   "id": "258e10c6-bcc0-4a4f-9379-b910f286c326",
   "metadata": {},
   "outputs": [
    {
     "data": {
      "text/html": [
       "<span style=\"None\">Running query in &#x27;sqlite:///library.db&#x27;</span>"
      ],
      "text/plain": [
       "Running query in 'sqlite:///library.db'"
      ]
     },
     "metadata": {},
     "output_type": "display_data"
    },
    {
     "data": {
      "text/html": [
       "<span style=\"color: green\">10 rows affected.</span>"
      ],
      "text/plain": [
       "10 rows affected."
      ]
     },
     "metadata": {},
     "output_type": "display_data"
    },
    {
     "data": {
      "text/html": [
       "<table>\n",
       "    <thead>\n",
       "        <tr>\n",
       "        </tr>\n",
       "    </thead>\n",
       "    <tbody>\n",
       "    </tbody>\n",
       "</table>"
      ],
      "text/plain": [
       "++\n",
       "||\n",
       "++\n",
       "++"
      ]
     },
     "execution_count": 53,
     "metadata": {},
     "output_type": "execute_result"
    }
   ],
   "source": [
    "%%sql\n",
    "INSERT INTO Manages (staffID, EventID)\n",
    "VALUES\n",
    "    (602, 401),\n",
    "    (603, 402),\n",
    "    (602, 403),\n",
    "    (603, 404),\n",
    "    (602, 405),\n",
    "    (603, 406),\n",
    "    (602, 407),\n",
    "    (603, 408),\n",
    "    (602, 409),\n",
    "    (603, 410);\n"
   ]
  },
  {
   "cell_type": "code",
   "execution_count": 55,
   "id": "bea23126-f14c-4b88-866f-a1581092bc6a",
   "metadata": {},
   "outputs": [
    {
     "data": {
      "text/html": [
       "<span style=\"None\">Running query in &#x27;sqlite:///library.db&#x27;</span>"
      ],
      "text/plain": [
       "Running query in 'sqlite:///library.db'"
      ]
     },
     "metadata": {},
     "output_type": "display_data"
    },
    {
     "data": {
      "text/html": [
       "<span style=\"color: green\">10 rows affected.</span>"
      ],
      "text/plain": [
       "10 rows affected."
      ]
     },
     "metadata": {},
     "output_type": "display_data"
    },
    {
     "data": {
      "text/html": [
       "<table>\n",
       "    <thead>\n",
       "        <tr>\n",
       "        </tr>\n",
       "    </thead>\n",
       "    <tbody>\n",
       "    </tbody>\n",
       "</table>"
      ],
      "text/plain": [
       "++\n",
       "||\n",
       "++\n",
       "++"
      ]
     },
     "execution_count": 55,
     "metadata": {},
     "output_type": "execute_result"
    }
   ],
   "source": [
    "%%sql\n",
    "INSERT INTO Uses (EventID, roomID)\n",
    "VALUES\n",
    "    (401, 501),\n",
    "    (402, 502),\n",
    "    (403, 503),\n",
    "    (404, 504),\n",
    "    (405, 505),\n",
    "    (406, 506),\n",
    "    (407, 507),\n",
    "    (408, 508),\n",
    "    (409, 509),\n",
    "    (410, 510);\n"
   ]
  },
  {
   "cell_type": "code",
   "execution_count": 57,
   "id": "a2e39a76-c438-4d3e-a6a3-8b6b68cab893",
   "metadata": {},
   "outputs": [
    {
     "data": {
      "text/html": [
       "<span style=\"None\">Running query in &#x27;sqlite:///library.db&#x27;</span>"
      ],
      "text/plain": [
       "Running query in 'sqlite:///library.db'"
      ]
     },
     "metadata": {},
     "output_type": "display_data"
    },
    {
     "data": {
      "text/html": [
       "<span style=\"color: green\">10 rows affected.</span>"
      ],
      "text/plain": [
       "10 rows affected."
      ]
     },
     "metadata": {},
     "output_type": "display_data"
    },
    {
     "data": {
      "text/html": [
       "<table>\n",
       "    <thead>\n",
       "        <tr>\n",
       "        </tr>\n",
       "    </thead>\n",
       "    <tbody>\n",
       "    </tbody>\n",
       "</table>"
      ],
      "text/plain": [
       "++\n",
       "||\n",
       "++\n",
       "++"
      ]
     },
     "execution_count": 57,
     "metadata": {},
     "output_type": "execute_result"
    }
   ],
   "source": [
    "%%sql\n",
    "INSERT INTO Attends (userID, EventID)\n",
    "VALUES\n",
    "    (1, 401),\n",
    "    (2, 401),\n",
    "    (3, 402),\n",
    "    (4, 403),\n",
    "    (5, 401),\n",
    "    (6, 403),\n",
    "    (7, 402),\n",
    "    (8, 401),\n",
    "    (9, 403),\n",
    "    (10, 401);\n"
   ]
  },
  {
   "cell_type": "code",
   "execution_count": 59,
   "id": "31e30ca5-fc4f-43a1-a74f-779e62bf64ee",
   "metadata": {},
   "outputs": [
    {
     "data": {
      "text/html": [
       "<span style=\"None\">Running query in &#x27;sqlite:///library.db&#x27;</span>"
      ],
      "text/plain": [
       "Running query in 'sqlite:///library.db'"
      ]
     },
     "metadata": {},
     "output_type": "display_data"
    },
    {
     "data": {
      "text/html": [
       "<span style=\"color: green\">10 rows affected.</span>"
      ],
      "text/plain": [
       "10 rows affected."
      ]
     },
     "metadata": {},
     "output_type": "display_data"
    },
    {
     "data": {
      "text/html": [
       "<table>\n",
       "    <thead>\n",
       "        <tr>\n",
       "        </tr>\n",
       "    </thead>\n",
       "    <tbody>\n",
       "    </tbody>\n",
       "</table>"
      ],
      "text/plain": [
       "++\n",
       "||\n",
       "++\n",
       "++"
      ]
     },
     "execution_count": 59,
     "metadata": {},
     "output_type": "execute_result"
    }
   ],
   "source": [
    "%%sql\n",
    "INSERT INTO Borrows (userID, LoanID)\n",
    "VALUES\n",
    "    (1, 201),\n",
    "    (2, 202),\n",
    "    (3, 203),\n",
    "    (4, 204),\n",
    "    (5, 205),\n",
    "    (6, 206),\n",
    "    (7, 207),\n",
    "    (8, 208),\n",
    "    (9, 209),\n",
    "    (10, 210);\n"
   ]
  },
  {
   "cell_type": "code",
   "execution_count": 61,
   "id": "f78ba0b2-114f-4770-aaff-cebc5846e07d",
   "metadata": {},
   "outputs": [
    {
     "data": {
      "text/html": [
       "<span style=\"None\">Running query in &#x27;sqlite:///library.db&#x27;</span>"
      ],
      "text/plain": [
       "Running query in 'sqlite:///library.db'"
      ]
     },
     "metadata": {},
     "output_type": "display_data"
    },
    {
     "data": {
      "text/html": [
       "<span style=\"color: green\">10 rows affected.</span>"
      ],
      "text/plain": [
       "10 rows affected."
      ]
     },
     "metadata": {},
     "output_type": "display_data"
    },
    {
     "data": {
      "text/html": [
       "<table>\n",
       "    <thead>\n",
       "        <tr>\n",
       "        </tr>\n",
       "    </thead>\n",
       "    <tbody>\n",
       "    </tbody>\n",
       "</table>"
      ],
      "text/plain": [
       "++\n",
       "||\n",
       "++\n",
       "++"
      ]
     },
     "execution_count": 61,
     "metadata": {},
     "output_type": "execute_result"
    }
   ],
   "source": [
    "%%sql\n",
    "INSERT INTO NotificationQueue (notificationID, userID, eventID, email, message)\n",
    "VALUES\n",
    "    (701, 1, 401, 'alice.brown@example.com', 'You may be interested in this event. Would you like to come?'),\n",
    "    (702, 2, 401, 'bob.smith@example.com', 'You may be interested in this event. Would you like to come?'),\n",
    "    (703, 3, 402, 'carol.jones@example.com', 'You may be interested in this event. Would you like to come?'),\n",
    "    (704, 4, 403, 'dave.wilson@example.com', 'You may be interested in this event. Would you like to come?'),\n",
    "    (705, 5, 401, 'eve.davis@example.com', 'You may be interested in this event. Would you like to come?'),\n",
    "    (706, 6, 403, 'frank.miller@example.com', 'You may be interested in this event. Would you like to come?'),\n",
    "    (707, 7, 402, 'grace.lee@example.com', 'You may be interested in this event. Would you like to come?'),\n",
    "    (708, 8, 401, 'henry.taylor@example.com', 'You may be interested in this event. Would you like to come?'),\n",
    "    (709, 9, 403, 'ivy.anderson@example.com', 'You may be interested in this event. Would you like to come?'),\n",
    "    (710, 10, 401, 'jack.thomas@example.com', 'You may be interested in this event. Would you like to come?');\n"
   ]
  },
  {
   "cell_type": "code",
   "execution_count": 63,
   "id": "29824fd3-f894-4512-a1bc-18ae0b210824",
   "metadata": {},
   "outputs": [
    {
     "data": {
      "text/html": [
       "<span style=\"None\">Running query in &#x27;sqlite:///library.db&#x27;</span>"
      ],
      "text/plain": [
       "Running query in 'sqlite:///library.db'"
      ]
     },
     "metadata": {},
     "output_type": "display_data"
    },
    {
     "data": {
      "text/html": [
       "<span style=\"color: green\">10 rows affected.</span>"
      ],
      "text/plain": [
       "10 rows affected."
      ]
     },
     "metadata": {},
     "output_type": "display_data"
    },
    {
     "data": {
      "text/html": [
       "<table>\n",
       "    <thead>\n",
       "        <tr>\n",
       "        </tr>\n",
       "    </thead>\n",
       "    <tbody>\n",
       "    </tbody>\n",
       "</table>"
      ],
      "text/plain": [
       "++\n",
       "||\n",
       "++\n",
       "++"
      ]
     },
     "execution_count": 63,
     "metadata": {},
     "output_type": "execute_result"
    }
   ],
   "source": [
    "%%sql\n",
    "INSERT INTO HelpRequests (requestID, email, message)\n",
    "VALUES\n",
    "    (801, 'alice.brown@example.com', 'We are currently processing your request.'),\n",
    "    (802, 'bob.smith@example.com', 'We are currently processing your request.'),\n",
    "    (803, 'carol.jones@example.com', 'We are currently processing your request.'),\n",
    "    (804, 'dave.wilson@example.com', 'We are currently processing your request.'),\n",
    "    (805, 'eve.davis@example.com', 'We are currently processing your request.'),\n",
    "    (806, 'frank.miller@example.com', 'We are currently processing your request.'),\n",
    "    (807, 'grace.lee@example.com', 'We are currently processing your request.'),\n",
    "    (808, 'henry.taylor@example.com', 'We are currently processing your request.'),\n",
    "    (809, 'ivy.anderson@example.com', 'We are currently processing your request.'),\n",
    "    (810, 'jack.thomas@example.com', 'We are currently processing your request.');\n"
   ]
  },
  {
   "cell_type": "markdown",
   "id": "0e417049-2a4f-45da-94d0-ef87559702c4",
   "metadata": {},
   "source": [
    "**TRIGGER**"
   ]
  },
  {
   "cell_type": "code",
   "execution_count": 66,
   "id": "70f8cc0f-4336-4d1d-85a5-f0bbf252feb5",
   "metadata": {},
   "outputs": [
    {
     "data": {
      "text/html": [
       "<span style=\"None\">Running query in &#x27;sqlite:///library.db&#x27;</span>"
      ],
      "text/plain": [
       "Running query in 'sqlite:///library.db'"
      ]
     },
     "metadata": {},
     "output_type": "display_data"
    },
    {
     "data": {
      "text/html": [
       "<table>\n",
       "    <thead>\n",
       "        <tr>\n",
       "        </tr>\n",
       "    </thead>\n",
       "    <tbody>\n",
       "    </tbody>\n",
       "</table>"
      ],
      "text/plain": [
       "++\n",
       "||\n",
       "++\n",
       "++"
      ]
     },
     "execution_count": 66,
     "metadata": {},
     "output_type": "execute_result"
    }
   ],
   "source": [
    "%%sql\n",
    "CREATE TRIGGER update_item_status_on_borrow\n",
    "AFTER INSERT ON Loan\n",
    "FOR EACH ROW\n",
    "BEGIN\n",
    "    UPDATE Item\n",
    "    SET status = 'borrowed'\n",
    "    WHERE ItemID = NEW.ItemID;\n",
    "END;\n"
   ]
  },
  {
   "cell_type": "code",
   "execution_count": 68,
   "id": "385a12af-d204-4203-877c-1e41632a1f43",
   "metadata": {},
   "outputs": [
    {
     "data": {
      "text/html": [
       "<span style=\"None\">Running query in &#x27;sqlite:///library.db&#x27;</span>"
      ],
      "text/plain": [
       "Running query in 'sqlite:///library.db'"
      ]
     },
     "metadata": {},
     "output_type": "display_data"
    },
    {
     "data": {
      "text/html": [
       "<table>\n",
       "    <thead>\n",
       "        <tr>\n",
       "        </tr>\n",
       "    </thead>\n",
       "    <tbody>\n",
       "    </tbody>\n",
       "</table>"
      ],
      "text/plain": [
       "++\n",
       "||\n",
       "++\n",
       "++"
      ]
     },
     "execution_count": 68,
     "metadata": {},
     "output_type": "execute_result"
    }
   ],
   "source": [
    "%%sql\n",
    "CREATE TRIGGER update_item_status_on_return\n",
    "AFTER DELETE ON Loan\n",
    "FOR EACH ROW\n",
    "BEGIN\n",
    "    UPDATE Item\n",
    "    SET status = 'available'\n",
    "    WHERE ItemID = OLD.ItemID;\n",
    "END;\n"
   ]
  },
  {
   "cell_type": "code",
   "execution_count": 70,
   "id": "66f350a6-b1b1-4c4f-9646-7db9e2753057",
   "metadata": {},
   "outputs": [
    {
     "data": {
      "text/html": [
       "<span style=\"None\">Running query in &#x27;sqlite:///library.db&#x27;</span>"
      ],
      "text/plain": [
       "Running query in 'sqlite:///library.db'"
      ]
     },
     "metadata": {},
     "output_type": "display_data"
    },
    {
     "data": {
      "text/html": [
       "<table>\n",
       "    <thead>\n",
       "        <tr>\n",
       "        </tr>\n",
       "    </thead>\n",
       "    <tbody>\n",
       "    </tbody>\n",
       "</table>"
      ],
      "text/plain": [
       "++\n",
       "||\n",
       "++\n",
       "++"
      ]
     },
     "execution_count": 70,
     "metadata": {},
     "output_type": "execute_result"
    }
   ],
   "source": [
    "%%sql\n",
    "CREATE TRIGGER IF NOT EXISTS trigger_notify_users_on_new_event\n",
    "AFTER INSERT ON Event\n",
    "FOR EACH ROW\n",
    "BEGIN\n",
    "    INSERT INTO NotificationQueue (userID, eventID, email, message)\n",
    "    SELECT \n",
    "        userID,\n",
    "        NEW.EventID,\n",
    "        email,\n",
    "        'Hi! Here is a new event you might like has been posted: ' || NEW.type\n",
    "    FROM User\n",
    "    WHERE preference = NEW.type;\n",
    "END;\n"
   ]
  },
  {
   "cell_type": "code",
   "execution_count": 72,
   "id": "c599a153-84e6-4552-a320-8c476a4d9977",
   "metadata": {},
   "outputs": [
    {
     "data": {
      "text/html": [
       "<span style=\"None\">Running query in &#x27;sqlite:///library.db&#x27;</span>"
      ],
      "text/plain": [
       "Running query in 'sqlite:///library.db'"
      ]
     },
     "metadata": {},
     "output_type": "display_data"
    },
    {
     "data": {
      "text/html": [
       "<table>\n",
       "    <thead>\n",
       "        <tr>\n",
       "        </tr>\n",
       "    </thead>\n",
       "    <tbody>\n",
       "    </tbody>\n",
       "</table>"
      ],
      "text/plain": [
       "++\n",
       "||\n",
       "++\n",
       "++"
      ]
     },
     "execution_count": 72,
     "metadata": {},
     "output_type": "execute_result"
    }
   ],
   "source": [
    "%%sql\n",
    "CREATE TRIGGER prevent_borrow_if_unavailable\n",
    "BEFORE INSERT ON Loan\n",
    "FOR EACH ROW\n",
    "BEGIN\n",
    "    SELECT \n",
    "    CASE\n",
    "        WHEN (SELECT status FROM Item WHERE ItemID = NEW.ItemID) = 'borrowed'\n",
    "        THEN RAISE(ABORT, 'This item is already borrowed.')\n",
    "    END;\n",
    "END;\n"
   ]
  },
  {
   "cell_type": "code",
   "execution_count": null,
   "id": "51b17eac-7394-41b2-9bd5-cafa26027e03",
   "metadata": {},
   "outputs": [],
   "source": []
  }
 ],
 "metadata": {
  "kernelspec": {
   "display_name": "Python [conda env:base] *",
   "language": "python",
   "name": "conda-base-py"
  },
  "language_info": {
   "codemirror_mode": {
    "name": "ipython",
    "version": 3
   },
   "file_extension": ".py",
   "mimetype": "text/x-python",
   "name": "python",
   "nbconvert_exporter": "python",
   "pygments_lexer": "ipython3",
   "version": "3.12.2"
  }
 },
 "nbformat": 4,
 "nbformat_minor": 5
}
