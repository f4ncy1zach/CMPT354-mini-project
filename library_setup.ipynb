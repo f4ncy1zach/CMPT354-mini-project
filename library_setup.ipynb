{
 "cells": [
  {
   "cell_type": "code",
   "execution_count": null,
   "id": "957cc8f0-eadc-4709-a10d-4c7fa4596911",
   "metadata": {},
   "outputs": [
    {
     "data": {
      "text/html": [
       "<span style=\"None\">displaylimit: Value None will be treated as 0 (no limit)</span>"
      ],
      "text/plain": [
       "displaylimit: Value None will be treated as 0 (no limit)"
      ]
     },
     "metadata": {},
     "output_type": "display_data"
    }
   ],
   "source": [
    "%reload_ext sql\n",
    "%config SqlMagic.displaylimit = None"
   ]
  },
  {
   "cell_type": "code",
   "execution_count": 3,
   "id": "24633b8c-2a0d-4034-afac-4d74f59355b8",
   "metadata": {},
   "outputs": [
    {
     "data": {
      "text/html": [
       "<span style=\"None\">Connecting to &#x27;sqlite:///library.db&#x27;</span>"
      ],
      "text/plain": [
       "Connecting to 'sqlite:///library.db'"
      ]
     },
     "metadata": {},
     "output_type": "display_data"
    }
   ],
   "source": [
    "%sql sqlite:///library.db"
   ]
  },
  {
   "cell_type": "markdown",
   "id": "fb3b88a4-bfaa-4dd1-b5b4-315fb4fbcf24",
   "metadata": {},
   "source": [
    "**TABLE 1**"
   ]
  },
  {
   "cell_type": "code",
   "execution_count": 6,
   "id": "f2507d8a-e2eb-419d-9a0a-45bae52aa86a",
   "metadata": {},
   "outputs": [
    {
     "data": {
      "text/html": [
       "<span style=\"None\">Running query in &#x27;sqlite:///library.db&#x27;</span>"
      ],
      "text/plain": [
       "Running query in 'sqlite:///library.db'"
      ]
     },
     "metadata": {},
     "output_type": "display_data"
    },
    {
     "data": {
      "text/html": [
       "<table>\n",
       "    <thead>\n",
       "        <tr>\n",
       "        </tr>\n",
       "    </thead>\n",
       "    <tbody>\n",
       "    </tbody>\n",
       "</table>"
      ],
      "text/plain": [
       "++\n",
       "||\n",
       "++\n",
       "++"
      ]
     },
     "execution_count": 6,
     "metadata": {},
     "output_type": "execute_result"
    }
   ],
   "source": [
    "%%sql\n",
    "CREATE TABLE User (\n",
    "    UserID INTEGER PRIMARY KEY AUTOINCREMENT,\n",
    "    preference CHAR(50),\n",
    "    email CHAR(50) NOT NULL UNIQUE CHECK(email LIKE '%@%.%')\n",
    ");"
   ]
  },
  {
   "cell_type": "code",
   "execution_count": 8,
   "id": "514c561c-33c4-4aa7-86da-ce61391767a4",
   "metadata": {},
   "outputs": [
    {
     "data": {
      "text/html": [
       "<span style=\"None\">Running query in &#x27;sqlite:///library.db&#x27;</span>"
      ],
      "text/plain": [
       "Running query in 'sqlite:///library.db'"
      ]
     },
     "metadata": {},
     "output_type": "display_data"
    },
    {
     "data": {
      "text/html": [
       "<table>\n",
       "    <thead>\n",
       "        <tr>\n",
       "        </tr>\n",
       "    </thead>\n",
       "    <tbody>\n",
       "    </tbody>\n",
       "</table>"
      ],
      "text/plain": [
       "++\n",
       "||\n",
       "++\n",
       "++"
      ]
     },
     "execution_count": 8,
     "metadata": {},
     "output_type": "execute_result"
    }
   ],
   "source": [
    "%%sql\n",
    "CREATE TABLE IF NOT EXISTS Item (\n",
    "    ItemID INTEGER PRIMARY KEY AUTOINCREMENT,\n",
    "    title CHAR(50) NOT NULL,\n",
    "    type CHAR(50) NOT NULL,\n",
    "    author CHAR(50),\n",
    "    status CHAR(50)\n",
    ");\n"
   ]
  },
  {
   "cell_type": "code",
   "execution_count": 10,
   "id": "0aeb11c5-12f1-4df1-a4d9-ce7a74e0c4f3",
   "metadata": {},
   "outputs": [
    {
     "data": {
      "text/html": [
       "<span style=\"None\">Running query in &#x27;sqlite:///library.db&#x27;</span>"
      ],
      "text/plain": [
       "Running query in 'sqlite:///library.db'"
      ]
     },
     "metadata": {},
     "output_type": "display_data"
    },
    {
     "data": {
      "text/html": [
       "<table>\n",
       "    <thead>\n",
       "        <tr>\n",
       "        </tr>\n",
       "    </thead>\n",
       "    <tbody>\n",
       "    </tbody>\n",
       "</table>"
      ],
      "text/plain": [
       "++\n",
       "||\n",
       "++\n",
       "++"
      ]
     },
     "execution_count": 10,
     "metadata": {},
     "output_type": "execute_result"
    }
   ],
   "source": [
    "%%sql\n",
    "CREATE TABLE IF NOT EXISTS CD (\n",
    "    ItemID INTEGER PRIMARY KEY,\n",
    "    duration INTEGER NOT NULL,\n",
    "    FOREIGN KEY (ItemID) REFERENCES Item (ItemID) ON DELETE CASCADE\n",
    ");\n"
   ]
  },
  {
   "cell_type": "code",
   "execution_count": 12,
   "id": "f987ea40-a5ee-44c5-a6b7-ac0829588cc7",
   "metadata": {},
   "outputs": [
    {
     "data": {
      "text/html": [
       "<span style=\"None\">Running query in &#x27;sqlite:///library.db&#x27;</span>"
      ],
      "text/plain": [
       "Running query in 'sqlite:///library.db'"
      ]
     },
     "metadata": {},
     "output_type": "display_data"
    },
    {
     "data": {
      "text/html": [
       "<table>\n",
       "    <thead>\n",
       "        <tr>\n",
       "        </tr>\n",
       "    </thead>\n",
       "    <tbody>\n",
       "    </tbody>\n",
       "</table>"
      ],
      "text/plain": [
       "++\n",
       "||\n",
       "++\n",
       "++"
      ]
     },
     "execution_count": 12,
     "metadata": {},
     "output_type": "execute_result"
    }
   ],
   "source": [
    "%%sql\n",
    "CREATE TABLE IF NOT EXISTS OnlineItem (\n",
    "    ItemID INTEGER PRIMARY KEY,\n",
    "    url CHAR(50) NOT NULL,\n",
    "    FOREIGN KEY (ItemID) REFERENCES Item (ItemID) ON DELETE CASCADE\n",
    ");\n"
   ]
  },
  {
   "cell_type": "code",
   "execution_count": 14,
   "id": "503f0a82-6e28-4681-b028-973bb8c43a34",
   "metadata": {},
   "outputs": [
    {
     "data": {
      "text/html": [
       "<span style=\"None\">Running query in &#x27;sqlite:///library.db&#x27;</span>"
      ],
      "text/plain": [
       "Running query in 'sqlite:///library.db'"
      ]
     },
     "metadata": {},
     "output_type": "display_data"
    },
    {
     "data": {
      "text/html": [
       "<table>\n",
       "    <thead>\n",
       "        <tr>\n",
       "        </tr>\n",
       "    </thead>\n",
       "    <tbody>\n",
       "    </tbody>\n",
       "</table>"
      ],
      "text/plain": [
       "++\n",
       "||\n",
       "++\n",
       "++"
      ]
     },
     "execution_count": 14,
     "metadata": {},
     "output_type": "execute_result"
    }
   ],
   "source": [
    "%%sql\n",
    "CREATE TABLE IF NOT EXISTS Loan (\n",
    "    LoanID INTEGER PRIMARY KEY AUTOINCREMENT,\n",
    "    due DATE NOT NULL\n",
    ");\n"
   ]
  },
  {
   "cell_type": "code",
   "execution_count": 16,
   "id": "99608a83-ebc9-4695-9342-67d2c7181c5c",
   "metadata": {},
   "outputs": [
    {
     "data": {
      "text/html": [
       "<span style=\"None\">Running query in &#x27;sqlite:///library.db&#x27;</span>"
      ],
      "text/plain": [
       "Running query in 'sqlite:///library.db'"
      ]
     },
     "metadata": {},
     "output_type": "display_data"
    },
    {
     "data": {
      "text/html": [
       "<table>\n",
       "    <thead>\n",
       "        <tr>\n",
       "        </tr>\n",
       "    </thead>\n",
       "    <tbody>\n",
       "    </tbody>\n",
       "</table>"
      ],
      "text/plain": [
       "++\n",
       "||\n",
       "++\n",
       "++"
      ]
     },
     "execution_count": 16,
     "metadata": {},
     "output_type": "execute_result"
    }
   ],
   "source": [
    "%%sql\n",
    "CREATE TABLE IF NOT EXISTS Borrows (\n",
    "    UserID INTEGER NOT NULL,\n",
    "    LoanID INTEGER NOT NULL,\n",
    "    ItemID INTEGER NOT NULL,\n",
    "    PRIMARY KEY (UserID, LoanID, ItemID),\n",
    "    FOREIGN KEY (UserID) REFERENCES User (UserID) ON DELETE CASCADE,\n",
    "    FOREIGN KEY (LoanID) REFERENCES Loan (LoanID) ON DELETE CASCADE,\n",
    "    FOREIGN KEY (ItemID) REFERENCES Item (ItemID) ON DELETE CASCADE\n",
    ");\n"
   ]
  },
  {
   "cell_type": "code",
   "execution_count": 18,
   "id": "11ef8f26-7c3f-4c14-878d-c5d2788efd47",
   "metadata": {
    "scrolled": true
   },
   "outputs": [
    {
     "data": {
      "text/html": [
       "<span style=\"None\">Running query in &#x27;sqlite:///library.db&#x27;</span>"
      ],
      "text/plain": [
       "Running query in 'sqlite:///library.db'"
      ]
     },
     "metadata": {},
     "output_type": "display_data"
    },
    {
     "data": {
      "text/html": [
       "<table>\n",
       "    <thead>\n",
       "        <tr>\n",
       "        </tr>\n",
       "    </thead>\n",
       "    <tbody>\n",
       "    </tbody>\n",
       "</table>"
      ],
      "text/plain": [
       "++\n",
       "||\n",
       "++\n",
       "++"
      ]
     },
     "execution_count": 18,
     "metadata": {},
     "output_type": "execute_result"
    }
   ],
   "source": [
    "%%sql \n",
    "CREATE TABLE IF NOT EXISTS Fine (\n",
    "    FineID INTEGER PRIMARY KEY,\n",
    "    amount DECIMAL(10,2) NOT NULL CHECK(amount >= 0),\n",
    "    status CHAR(50) CHECK(status IN ('Unpaid', 'Paid'))\n",
    ");\n"
   ]
  },
  {
   "cell_type": "code",
   "execution_count": 20,
   "id": "a3ac623d-7f12-44ed-bd95-cc61e194d3ed",
   "metadata": {},
   "outputs": [
    {
     "data": {
      "text/html": [
       "<span style=\"None\">Running query in &#x27;sqlite:///library.db&#x27;</span>"
      ],
      "text/plain": [
       "Running query in 'sqlite:///library.db'"
      ]
     },
     "metadata": {},
     "output_type": "display_data"
    },
    {
     "data": {
      "text/html": [
       "<table>\n",
       "    <thead>\n",
       "        <tr>\n",
       "        </tr>\n",
       "    </thead>\n",
       "    <tbody>\n",
       "    </tbody>\n",
       "</table>"
      ],
      "text/plain": [
       "++\n",
       "||\n",
       "++\n",
       "++"
      ]
     },
     "execution_count": 20,
     "metadata": {},
     "output_type": "execute_result"
    }
   ],
   "source": [
    "%%sql \n",
    "CREATE TABLE IF NOT EXISTS IncurredBy (\n",
    "    FineID INTEGER NOT NULL,\n",
    "    LoanID INTEGER NOT NULL,\n",
    "    PRIMARY KEY (FineID, LoanID),\n",
    "    FOREIGN KEY (LoanID) REFERENCES Loan (LoanID) ON DELETE CASCADE,\n",
    "    FOREIGN KEY (FineID) REFERENCES Fine (FineID) ON DELETE CASCADE\n",
    ");"
   ]
  },
  {
   "cell_type": "code",
   "execution_count": 22,
   "id": "28ccf21a-1314-42cc-8be2-06503e3a428f",
   "metadata": {},
   "outputs": [
    {
     "data": {
      "text/html": [
       "<span style=\"None\">Running query in &#x27;sqlite:///library.db&#x27;</span>"
      ],
      "text/plain": [
       "Running query in 'sqlite:///library.db'"
      ]
     },
     "metadata": {},
     "output_type": "display_data"
    },
    {
     "data": {
      "text/html": [
       "<table>\n",
       "    <thead>\n",
       "        <tr>\n",
       "        </tr>\n",
       "    </thead>\n",
       "    <tbody>\n",
       "    </tbody>\n",
       "</table>"
      ],
      "text/plain": [
       "++\n",
       "||\n",
       "++\n",
       "++"
      ]
     },
     "execution_count": 22,
     "metadata": {},
     "output_type": "execute_result"
    }
   ],
   "source": [
    "%%sql\n",
    "CREATE TABLE IF NOT EXISTS Event (\n",
    "    EventID INTEGER PRIMARY KEY AUTOINCREMENT,\n",
    "    type CHAR(50) NOT NULL\n",
    ");\n"
   ]
  },
  {
   "cell_type": "code",
   "execution_count": 24,
   "id": "b147e469-01ca-4de1-a51d-c90b0ddd2b6f",
   "metadata": {},
   "outputs": [
    {
     "data": {
      "text/html": [
       "<span style=\"None\">Running query in &#x27;sqlite:///library.db&#x27;</span>"
      ],
      "text/plain": [
       "Running query in 'sqlite:///library.db'"
      ]
     },
     "metadata": {},
     "output_type": "display_data"
    },
    {
     "data": {
      "text/html": [
       "<table>\n",
       "    <thead>\n",
       "        <tr>\n",
       "        </tr>\n",
       "    </thead>\n",
       "    <tbody>\n",
       "    </tbody>\n",
       "</table>"
      ],
      "text/plain": [
       "++\n",
       "||\n",
       "++\n",
       "++"
      ]
     },
     "execution_count": 24,
     "metadata": {},
     "output_type": "execute_result"
    }
   ],
   "source": [
    "%%sql\n",
    "CREATE TABLE IF NOT EXISTS Attends (\n",
    "    UserID INTEGER NOT NULL,\n",
    "    EventID INTEGER NOT NULL,\n",
    "    PRIMARY KEY (UserID, EventID),\n",
    "    FOREIGN KEY (UserID) REFERENCES User (UserID) ON DELETE CASCADE,\n",
    "    FOREIGN KEY (EventID) REFERENCES Event (EventID) ON DELETE CASCADE\n",
    ");\n"
   ]
  },
  {
   "cell_type": "code",
   "execution_count": 26,
   "id": "9b9ed97f-4ccb-46b3-913d-4fa6ad376d47",
   "metadata": {},
   "outputs": [
    {
     "data": {
      "text/html": [
       "<span style=\"None\">Running query in &#x27;sqlite:///library.db&#x27;</span>"
      ],
      "text/plain": [
       "Running query in 'sqlite:///library.db'"
      ]
     },
     "metadata": {},
     "output_type": "display_data"
    },
    {
     "data": {
      "text/html": [
       "<table>\n",
       "    <thead>\n",
       "        <tr>\n",
       "        </tr>\n",
       "    </thead>\n",
       "    <tbody>\n",
       "    </tbody>\n",
       "</table>"
      ],
      "text/plain": [
       "++\n",
       "||\n",
       "++\n",
       "++"
      ]
     },
     "execution_count": 26,
     "metadata": {},
     "output_type": "execute_result"
    }
   ],
   "source": [
    "%%sql\n",
    "CREATE TABLE IF NOT EXISTS Room (\n",
    "    RoomID INTEGER PRIMARY KEY AUTOINCREMENT,\n",
    "    capacity INTEGER NOT NULL\n",
    ");\n"
   ]
  },
  {
   "cell_type": "code",
   "execution_count": 28,
   "id": "0ace2bdb-0804-4ba1-a7b7-b8cb0e3ae674",
   "metadata": {},
   "outputs": [
    {
     "data": {
      "text/html": [
       "<span style=\"None\">Running query in &#x27;sqlite:///library.db&#x27;</span>"
      ],
      "text/plain": [
       "Running query in 'sqlite:///library.db'"
      ]
     },
     "metadata": {},
     "output_type": "display_data"
    },
    {
     "data": {
      "text/html": [
       "<table>\n",
       "    <thead>\n",
       "        <tr>\n",
       "        </tr>\n",
       "    </thead>\n",
       "    <tbody>\n",
       "    </tbody>\n",
       "</table>"
      ],
      "text/plain": [
       "++\n",
       "||\n",
       "++\n",
       "++"
      ]
     },
     "execution_count": 28,
     "metadata": {},
     "output_type": "execute_result"
    }
   ],
   "source": [
    "%%sql\n",
    "CREATE TABLE IF NOT EXISTS Uses (\n",
    "    EventID INTEGER NOT NULL,\n",
    "    RoomID INTEGER NOT NULL,\n",
    "    PRIMARY KEY (EventID, RoomID),\n",
    "    FOREIGN KEY (EventID) REFERENCES Event (EventID) ON DELETE CASCADE,\n",
    "    FOREIGN KEY (RoomID) REFERENCES Room (RoomID) ON DELETE CASCADE\n",
    ");\n"
   ]
  },
  {
   "cell_type": "code",
   "execution_count": 30,
   "id": "532be1fb-f7fc-47f2-8892-ebd6b065f9ce",
   "metadata": {},
   "outputs": [
    {
     "data": {
      "text/html": [
       "<span style=\"None\">Running query in &#x27;sqlite:///library.db&#x27;</span>"
      ],
      "text/plain": [
       "Running query in 'sqlite:///library.db'"
      ]
     },
     "metadata": {},
     "output_type": "display_data"
    },
    {
     "data": {
      "text/html": [
       "<table>\n",
       "    <thead>\n",
       "        <tr>\n",
       "        </tr>\n",
       "    </thead>\n",
       "    <tbody>\n",
       "    </tbody>\n",
       "</table>"
      ],
      "text/plain": [
       "++\n",
       "||\n",
       "++\n",
       "++"
      ]
     },
     "execution_count": 30,
     "metadata": {},
     "output_type": "execute_result"
    }
   ],
   "source": [
    "%%sql\n",
    "CREATE TABLE IF NOT EXISTS Personnel (\n",
    "    StaffID INTEGER PRIMARY KEY AUTOINCREMENT,\n",
    "    name CHAR(50) NOT NULL,\n",
    "    position CHAR(50) NOT NULL,\n",
    "    salary DECIMAL(10,2) NOT NULL CHECK (salary > 0)\n",
    ");\n"
   ]
  },
  {
   "cell_type": "code",
   "execution_count": 32,
   "id": "8ebd20b2-c19f-40b2-b020-ea226c93265e",
   "metadata": {},
   "outputs": [
    {
     "data": {
      "text/html": [
       "<span style=\"None\">Running query in &#x27;sqlite:///library.db&#x27;</span>"
      ],
      "text/plain": [
       "Running query in 'sqlite:///library.db'"
      ]
     },
     "metadata": {},
     "output_type": "display_data"
    },
    {
     "data": {
      "text/html": [
       "<table>\n",
       "    <thead>\n",
       "        <tr>\n",
       "        </tr>\n",
       "    </thead>\n",
       "    <tbody>\n",
       "    </tbody>\n",
       "</table>"
      ],
      "text/plain": [
       "++\n",
       "||\n",
       "++\n",
       "++"
      ]
     },
     "execution_count": 32,
     "metadata": {},
     "output_type": "execute_result"
    }
   ],
   "source": [
    "%%sql\n",
    "CREATE TABLE IF NOT EXISTS Manages (\n",
    "    StaffID INTEGER NOT NULL,\n",
    "    EventID INTEGER NOT NULL,\n",
    "    PRIMARY KEY (StaffID, EventID),\n",
    "    FOREIGN KEY (StaffID) REFERENCES Personnel (StaffID) ON DELETE CASCADE,\n",
    "    FOREIGN KEY (EventID) REFERENCES Event (EventID) ON DELETE CASCADE\n",
    ");\n"
   ]
  },
  {
   "cell_type": "code",
   "execution_count": 34,
   "id": "654af23a-8c16-441b-ac17-aa66b9a6e018",
   "metadata": {},
   "outputs": [
    {
     "data": {
      "text/html": [
       "<span style=\"None\">Running query in &#x27;sqlite:///library.db&#x27;</span>"
      ],
      "text/plain": [
       "Running query in 'sqlite:///library.db'"
      ]
     },
     "metadata": {},
     "output_type": "display_data"
    },
    {
     "data": {
      "text/html": [
       "<table>\n",
       "    <thead>\n",
       "        <tr>\n",
       "        </tr>\n",
       "    </thead>\n",
       "    <tbody>\n",
       "    </tbody>\n",
       "</table>"
      ],
      "text/plain": [
       "++\n",
       "||\n",
       "++\n",
       "++"
      ]
     },
     "execution_count": 34,
     "metadata": {},
     "output_type": "execute_result"
    }
   ],
   "source": [
    "%%sql\n",
    "CREATE TABLE IF NOT EXISTS NotificationQueue (\n",
    "    UserID INTEGER NOT NULL,\n",
    "    EventID INTEGER NOT NULL,\n",
    "    message CHAR(50) NOT NULL,\n",
    "    status CHAR(50) DEFAULT 'Pending' CHECK(status IN ('Pending', 'Sent')),\n",
    "    PRIMARY KEY (UserID, eventID),\n",
    "    FOREIGN KEY (UserID) REFERENCES User(UserID),\n",
    "    FOREIGN KEY (EventID) REFERENCES Event(EventID)\n",
    ");\n"
   ]
  },
  {
   "cell_type": "code",
   "execution_count": 36,
   "id": "f42b39b8-6882-464e-b4d6-074756d34084",
   "metadata": {},
   "outputs": [
    {
     "data": {
      "text/html": [
       "<span style=\"None\">Running query in &#x27;sqlite:///library.db&#x27;</span>"
      ],
      "text/plain": [
       "Running query in 'sqlite:///library.db'"
      ]
     },
     "metadata": {},
     "output_type": "display_data"
    },
    {
     "data": {
      "text/html": [
       "<table>\n",
       "    <thead>\n",
       "        <tr>\n",
       "        </tr>\n",
       "    </thead>\n",
       "    <tbody>\n",
       "    </tbody>\n",
       "</table>"
      ],
      "text/plain": [
       "++\n",
       "||\n",
       "++\n",
       "++"
      ]
     },
     "execution_count": 36,
     "metadata": {},
     "output_type": "execute_result"
    }
   ],
   "source": [
    "%%sql\n",
    "CREATE TABLE IF NOT EXISTS HelpRequests (\n",
    "    RequestID INTEGER PRIMARY KEY AUTOINCREMENT,\n",
    "    message CHAR(50) NOT NULL,\n",
    "    email CHAR(50) NOT NULL UNIQUE CHECK(email LIKE '%@%.%'),\n",
    "    FOREIGN KEY (email) REFERENCES User(email)\n",
    ");\n"
   ]
  },
  {
   "cell_type": "code",
   "execution_count": 38,
   "id": "0f3ca15e-a22a-4b96-845f-a31af8ae3e26",
   "metadata": {},
   "outputs": [
    {
     "data": {
      "text/html": [
       "<span style=\"None\">Running query in &#x27;sqlite:///library.db&#x27;</span>"
      ],
      "text/plain": [
       "Running query in 'sqlite:///library.db'"
      ]
     },
     "metadata": {},
     "output_type": "display_data"
    },
    {
     "data": {
      "text/html": [
       "<table>\n",
       "    <thead>\n",
       "        <tr>\n",
       "        </tr>\n",
       "    </thead>\n",
       "    <tbody>\n",
       "    </tbody>\n",
       "</table>"
      ],
      "text/plain": [
       "++\n",
       "||\n",
       "++\n",
       "++"
      ]
     },
     "execution_count": 38,
     "metadata": {},
     "output_type": "execute_result"
    }
   ],
   "source": [
    "%%sql\n",
    "CREATE TABLE IF NOT EXISTS Request (\n",
    "    RequestID INTEGER NOT NULL,\n",
    "    StaffID INTEGER NOT NULL,\n",
    "    UserID INTEGER NOT NULL,\n",
    "    PRIMARY KEY (StaffID, RequestID, UserID),\n",
    "    FOREIGN KEY (StaffID) REFERENCES Personnel (StaffID) ON DELETE CASCADE,\n",
    "    FOREIGN KEY (RequestID) REFERENCES HelpRequest (RequestID) ON DELETE CASCADE,\n",
    "    FOREIGN KEY (UserID) REFERENCES User (UserID) ON DELETE CASCADE\n",
    ");"
   ]
  },
  {
   "cell_type": "code",
   "execution_count": 40,
   "id": "8568a512-6751-45bf-98c2-08124d7f6a2b",
   "metadata": {},
   "outputs": [
    {
     "data": {
      "text/html": [
       "<span style=\"None\">Running query in &#x27;sqlite:///library.db&#x27;</span>"
      ],
      "text/plain": [
       "Running query in 'sqlite:///library.db'"
      ]
     },
     "metadata": {},
     "output_type": "display_data"
    },
    {
     "data": {
      "text/html": [
       "<table>\n",
       "    <thead>\n",
       "        <tr>\n",
       "            <th>name</th>\n",
       "        </tr>\n",
       "    </thead>\n",
       "    <tbody>\n",
       "        <tr>\n",
       "            <td>User</td>\n",
       "        </tr>\n",
       "        <tr>\n",
       "            <td>sqlite_sequence</td>\n",
       "        </tr>\n",
       "        <tr>\n",
       "            <td>Item</td>\n",
       "        </tr>\n",
       "        <tr>\n",
       "            <td>CD</td>\n",
       "        </tr>\n",
       "        <tr>\n",
       "            <td>OnlineItem</td>\n",
       "        </tr>\n",
       "        <tr>\n",
       "            <td>Loan</td>\n",
       "        </tr>\n",
       "        <tr>\n",
       "            <td>Borrows</td>\n",
       "        </tr>\n",
       "        <tr>\n",
       "            <td>Fine</td>\n",
       "        </tr>\n",
       "        <tr>\n",
       "            <td>IncurredBy</td>\n",
       "        </tr>\n",
       "        <tr>\n",
       "            <td>Event</td>\n",
       "        </tr>\n",
       "        <tr>\n",
       "            <td>Attends</td>\n",
       "        </tr>\n",
       "        <tr>\n",
       "            <td>Room</td>\n",
       "        </tr>\n",
       "        <tr>\n",
       "            <td>Uses</td>\n",
       "        </tr>\n",
       "        <tr>\n",
       "            <td>Personnel</td>\n",
       "        </tr>\n",
       "        <tr>\n",
       "            <td>Manages</td>\n",
       "        </tr>\n",
       "        <tr>\n",
       "            <td>NotificationQueue</td>\n",
       "        </tr>\n",
       "        <tr>\n",
       "            <td>HelpRequests</td>\n",
       "        </tr>\n",
       "        <tr>\n",
       "            <td>Request</td>\n",
       "        </tr>\n",
       "    </tbody>\n",
       "</table>"
      ],
      "text/plain": [
       "+-------------------+\n",
       "|        name       |\n",
       "+-------------------+\n",
       "|        User       |\n",
       "|  sqlite_sequence  |\n",
       "|        Item       |\n",
       "|         CD        |\n",
       "|     OnlineItem    |\n",
       "|        Loan       |\n",
       "|      Borrows      |\n",
       "|        Fine       |\n",
       "|     IncurredBy    |\n",
       "|       Event       |\n",
       "|      Attends      |\n",
       "|        Room       |\n",
       "|        Uses       |\n",
       "|     Personnel     |\n",
       "|      Manages      |\n",
       "| NotificationQueue |\n",
       "|    HelpRequests   |\n",
       "|      Request      |\n",
       "+-------------------+"
      ]
     },
     "execution_count": 40,
     "metadata": {},
     "output_type": "execute_result"
    }
   ],
   "source": [
    "%%sql \n",
    "SELECT name FROM sqlite_master WHERE type='table';\n"
   ]
  },
  {
   "cell_type": "markdown",
   "id": "d25bcd9d-0d0a-44b3-b4d7-a44f717cb2d5",
   "metadata": {},
   "source": [
    "**VALUE**"
   ]
  },
  {
   "cell_type": "code",
   "execution_count": 73,
   "id": "29824fd3-f894-4512-a1bc-18ae0b210824",
   "metadata": {},
   "outputs": [
    {
     "data": {
      "text/html": [
       "<span style=\"None\">Running query in &#x27;sqlite:///library.db&#x27;</span>"
      ],
      "text/plain": [
       "Running query in 'sqlite:///library.db'"
      ]
     },
     "metadata": {},
     "output_type": "display_data"
    },
    {
     "data": {
      "text/html": [
       "<span style=\"color: green\">10 rows affected.</span>"
      ],
      "text/plain": [
       "10 rows affected."
      ]
     },
     "metadata": {},
     "output_type": "display_data"
    },
    {
     "data": {
      "text/html": [
       "<table>\n",
       "    <thead>\n",
       "        <tr>\n",
       "        </tr>\n",
       "    </thead>\n",
       "    <tbody>\n",
       "    </tbody>\n",
       "</table>"
      ],
      "text/plain": [
       "++\n",
       "||\n",
       "++\n",
       "++"
      ]
     },
     "execution_count": 73,
     "metadata": {},
     "output_type": "execute_result"
    }
   ],
   "source": [
    "%%sql\n",
    "INSERT INTO User (UserID, email, preference)\n",
    "VALUES\n",
    "    (1, 'alice.brown@example.com', 'Book Club'),\n",
    "    (2, 'bob.smith@example.com', 'Book Club'),\n",
    "    (3, 'carol.jones@example.com', 'Film Screening'),\n",
    "    (4, 'dave.wilson@example.com', 'Art Show'),\n",
    "    (5, 'eve.davis@example.com', 'Book Club'),\n",
    "    (6, 'frank.miller@example.com', 'Art Show'),\n",
    "    (7, 'grace.lee@example.com', 'Film Screening'),\n",
    "    (8, 'henry.taylor@example.com', 'Book Club'),\n",
    "    (9, 'ivy.anderson@example.com', 'Art Show'),\n",
    "    (10, 'jack.thomas@example.com', 'Book Club');"
   ]
  },
  {
   "cell_type": "code",
   "execution_count": 45,
   "id": "fe9b265e-84e4-443d-8c03-2741e5aafc92",
   "metadata": {},
   "outputs": [
    {
     "data": {
      "text/html": [
       "<span style=\"None\">Running query in &#x27;sqlite:///library.db&#x27;</span>"
      ],
      "text/plain": [
       "Running query in 'sqlite:///library.db'"
      ]
     },
     "metadata": {},
     "output_type": "display_data"
    },
    {
     "data": {
      "text/html": [
       "<span style=\"color: green\">40 rows affected.</span>"
      ],
      "text/plain": [
       "40 rows affected."
      ]
     },
     "metadata": {},
     "output_type": "display_data"
    },
    {
     "data": {
      "text/html": [
       "<table>\n",
       "    <thead>\n",
       "        <tr>\n",
       "        </tr>\n",
       "    </thead>\n",
       "    <tbody>\n",
       "    </tbody>\n",
       "</table>"
      ],
      "text/plain": [
       "++\n",
       "||\n",
       "++\n",
       "++"
      ]
     },
     "execution_count": 45,
     "metadata": {},
     "output_type": "execute_result"
    }
   ],
   "source": [
    "%%sql\n",
    "INSERT INTO Item (ItemID, Title, Type, Author, Status)\n",
    "VALUES\n",
    "    --NORMAL BOOK\n",
    "    (101, 'The Great Gatsby', 'Book', 'F. Scott Fitzgerald', 'Borrowed'),\n",
    "    (102, '1984', 'Book', 'George Orwell', 'Borrowed'),\n",
    "    (103, 'National Geographic', 'Magazine', 'Various', 'Borrowed'),\n",
    "    (104, 'Time', 'Magazine', 'Various', 'Borrowed'),\n",
    "    (105, 'Thriller', 'Book', 'Michael Jackson', 'Borrowed'),\n",
    "    (106, 'Inception', 'Book', 'Christopher Nolan', 'Borrowed'),\n",
    "    (107, 'Learn Python', 'Book', 'John Doe', 'Borrowed'),\n",
    "    (108, 'Interstellar Soundtrack', 'Book', 'Hans Zimmer', 'Borrowed'),\n",
    "    (109, 'The New Yorker', 'Magazine', 'Various', 'Borrowed'),\n",
    "    (110, 'Science Journal', 'Scientific Journal', 'Various', 'Borrowed'),\n",
    "    --CD\n",
    "    (111, 'Best of Mozart', 'Book', 'Mozart', 'Available'),\n",
    "    (112, 'Classical Hits', 'Book', 'Various', 'Available'),\n",
    "    (113, 'Lo-Fi Chill', 'Book', 'Indie Beats', 'Available'),\n",
    "    (114, 'Jazz Essentials', 'Book', 'Miles Davis', 'Available'),\n",
    "    (115, 'Pop Anthems', 'Book', 'Taylor Swift', 'Available'),\n",
    "    (116, 'Rock Legends', 'Book', 'Queen', 'Available'),\n",
    "    (117, 'Hip Hop Beats', 'Book', 'Dr. Dre', 'Available'),\n",
    "    (118, 'Piano Classics', 'Book', 'Chopin', 'Available'),\n",
    "    (119, 'Movie Scores', 'Book', 'Hans Zimmer', 'Available'),\n",
    "    (120, 'EDM Party', 'Book', 'Various', 'Available'),\n",
    "    --OnlineItem\n",
    "    (121, 'Digital Design Handbook', 'Book', 'Alice Wang', 'online'),\n",
    "    (122, 'Advanced Databases', 'Book', 'Bob Smith', 'online'),\n",
    "    (123, 'AI Revolution', 'Book', 'Carol Lee', 'online'),\n",
    "    (124, 'Data Science 101', 'Book', 'Daniel Zhang', 'online'),\n",
    "    (125, 'Web Dev Guide', 'Book', 'Emily Chen', 'online'),\n",
    "    (126, 'Cybersecurity Basics', 'Book', 'Frank Yu', 'online'),\n",
    "    (127, 'Intro to Algorithms', 'Book', 'Grace Lin', 'online'),\n",
    "    (128, 'Modern Physics', 'Book', 'Henry Zhao', 'online'),\n",
    "    (129, 'Economics in Practice', 'Book', 'Ivy Liu', 'online'),\n",
    "    (130, 'Design Thinking', 'Book', 'Jack Li', 'online'),\n",
    "    --FutureItem\n",
    "    (131, 'Quantum World', 'Book', 'Tom Wu', 'FutureItem'),\n",
    "    (132, 'Neural Networks', 'Book', 'Sarah Kim', 'FutureItem'),\n",
    "    (133, 'Cloud Native', 'Book', 'Leo Ma', 'FutureItem'),\n",
    "    (134, 'Machine Ethics', 'Book', 'Anne Zhou', 'FutureItem'),\n",
    "    (135, 'Digital Marketing', 'Book', 'Will Zheng', 'FutureItem'),\n",
    "    (136, 'Bioinformatics', 'Book', 'Kevin Wang', 'FutureItem'),\n",
    "    (137, 'Philosophy Today', 'Book', 'Rachel Sun', 'FutureItem'),\n",
    "    (138, 'Behavioral Econ', 'Book', 'Linda Hu', 'FutureItem'),\n",
    "    (139, 'Robotics Intro', 'Book', 'Alex Zhao', 'FutureItem'),\n",
    "    (140, 'History of AI', 'Book', 'Nina Luo', 'FutureItem');"
   ]
  },
  {
   "cell_type": "code",
   "execution_count": 47,
   "id": "1ecd4429-2a40-4a7b-8cbf-6fc14e9bf312",
   "metadata": {},
   "outputs": [
    {
     "data": {
      "text/html": [
       "<span style=\"None\">Running query in &#x27;sqlite:///library.db&#x27;</span>"
      ],
      "text/plain": [
       "Running query in 'sqlite:///library.db'"
      ]
     },
     "metadata": {},
     "output_type": "display_data"
    },
    {
     "data": {
      "text/html": [
       "<span style=\"color: green\">10 rows affected.</span>"
      ],
      "text/plain": [
       "10 rows affected."
      ]
     },
     "metadata": {},
     "output_type": "display_data"
    },
    {
     "data": {
      "text/html": [
       "<table>\n",
       "    <thead>\n",
       "        <tr>\n",
       "        </tr>\n",
       "    </thead>\n",
       "    <tbody>\n",
       "    </tbody>\n",
       "</table>"
      ],
      "text/plain": [
       "++\n",
       "||\n",
       "++\n",
       "++"
      ]
     },
     "execution_count": 47,
     "metadata": {},
     "output_type": "execute_result"
    }
   ],
   "source": [
    "%%sql\n",
    "INSERT INTO CD (ItemID, Duration)\n",
    "VALUES\n",
    "    (111, '45:00'),\n",
    "    (112, '38:20'),\n",
    "    (113, '50:10'),\n",
    "    (114, '60:00'),\n",
    "    (115, '42:35'),\n",
    "    (116, '47:15'),\n",
    "    (117, '39:30'),\n",
    "    (118, '54:25'),\n",
    "    (119, '48:10'),\n",
    "    (120, '52:00');"
   ]
  },
  {
   "cell_type": "code",
   "execution_count": 49,
   "id": "74061a56-aeb7-454a-b5ca-f12afb08b7ed",
   "metadata": {},
   "outputs": [
    {
     "data": {
      "text/html": [
       "<span style=\"None\">Running query in &#x27;sqlite:///library.db&#x27;</span>"
      ],
      "text/plain": [
       "Running query in 'sqlite:///library.db'"
      ]
     },
     "metadata": {},
     "output_type": "display_data"
    },
    {
     "data": {
      "text/html": [
       "<span style=\"color: green\">10 rows affected.</span>"
      ],
      "text/plain": [
       "10 rows affected."
      ]
     },
     "metadata": {},
     "output_type": "display_data"
    },
    {
     "data": {
      "text/html": [
       "<table>\n",
       "    <thead>\n",
       "        <tr>\n",
       "        </tr>\n",
       "    </thead>\n",
       "    <tbody>\n",
       "    </tbody>\n",
       "</table>"
      ],
      "text/plain": [
       "++\n",
       "||\n",
       "++\n",
       "++"
      ]
     },
     "execution_count": 49,
     "metadata": {},
     "output_type": "execute_result"
    }
   ],
   "source": [
    "%%sql\n",
    "INSERT INTO onlineItem (ItemID, URL)\n",
    "VALUES\n",
    "    (121, 'https://example.com/design'),\n",
    "    (122, 'https://example.com/db'),\n",
    "    (123, 'https://example.com/ai'),\n",
    "    (124, 'https://example.com/data'),\n",
    "    (125, 'https://example.com/web'),\n",
    "    (126, 'https://example.com/security'),\n",
    "    (127, 'https://example.com/algos'),\n",
    "    (128, 'https://example.com/physics'),\n",
    "    (129, 'https://example.com/econ'),\n",
    "    (130, 'https://example.com/design-thinking');"
   ]
  },
  {
   "cell_type": "code",
   "execution_count": 51,
   "id": "056737d0-a14e-42d3-8ff4-660a33cef7f7",
   "metadata": {},
   "outputs": [
    {
     "data": {
      "text/html": [
       "<span style=\"None\">Running query in &#x27;sqlite:///library.db&#x27;</span>"
      ],
      "text/plain": [
       "Running query in 'sqlite:///library.db'"
      ]
     },
     "metadata": {},
     "output_type": "display_data"
    },
    {
     "data": {
      "text/html": [
       "<span style=\"color: green\">10 rows affected.</span>"
      ],
      "text/plain": [
       "10 rows affected."
      ]
     },
     "metadata": {},
     "output_type": "display_data"
    },
    {
     "data": {
      "text/html": [
       "<table>\n",
       "    <thead>\n",
       "        <tr>\n",
       "        </tr>\n",
       "    </thead>\n",
       "    <tbody>\n",
       "    </tbody>\n",
       "</table>"
      ],
      "text/plain": [
       "++\n",
       "||\n",
       "++\n",
       "++"
      ]
     },
     "execution_count": 51,
     "metadata": {},
     "output_type": "execute_result"
    }
   ],
   "source": [
    "%%sql\n",
    "INSERT INTO Loan (LoanID,due)\n",
    "VALUES\n",
    "    (201, '2025-04-15'),\n",
    "    (202, '2025-04-20'),\n",
    "    (203, '2025-04-18'),\n",
    "    (204, '2025-04-12'),\n",
    "    (205, '2025-04-22'),\n",
    "    (206, '2025-04-16'),\n",
    "    (207, '2025-04-19'),\n",
    "    (208, '2025-04-17'),\n",
    "    (209, '2025-04-21'),\n",
    "    (210, '2025-04-25');\n"
   ]
  },
  {
   "cell_type": "code",
   "execution_count": 53,
   "id": "6c122ebd-491f-4fbd-b06f-42d5058f966d",
   "metadata": {},
   "outputs": [
    {
     "data": {
      "text/html": [
       "<span style=\"None\">Running query in &#x27;sqlite:///library.db&#x27;</span>"
      ],
      "text/plain": [
       "Running query in 'sqlite:///library.db'"
      ]
     },
     "metadata": {},
     "output_type": "display_data"
    },
    {
     "data": {
      "text/html": [
       "<span style=\"color: green\">10 rows affected.</span>"
      ],
      "text/plain": [
       "10 rows affected."
      ]
     },
     "metadata": {},
     "output_type": "display_data"
    },
    {
     "data": {
      "text/html": [
       "<table>\n",
       "    <thead>\n",
       "        <tr>\n",
       "        </tr>\n",
       "    </thead>\n",
       "    <tbody>\n",
       "    </tbody>\n",
       "</table>"
      ],
      "text/plain": [
       "++\n",
       "||\n",
       "++\n",
       "++"
      ]
     },
     "execution_count": 53,
     "metadata": {},
     "output_type": "execute_result"
    }
   ],
   "source": [
    "%%sql\n",
    "INSERT INTO Borrows (LoanID, UserID, ItemID)\n",
    "VALUES\n",
    "    (201, 1, 102),\n",
    "    (202, 2, 105),\n",
    "    (203, 3, 108),\n",
    "    (204, 4, 101),\n",
    "    (205, 5, 107),\n",
    "    (206, 6, 106),\n",
    "    (207, 7, 104),\n",
    "    (208, 8, 103),\n",
    "    (209, 9, 110),\n",
    "    (210, 10, 109);"
   ]
  },
  {
   "cell_type": "code",
   "execution_count": 55,
   "id": "d9e5b625-88cb-4ce2-b6f9-034a6a14c233",
   "metadata": {},
   "outputs": [
    {
     "data": {
      "text/html": [
       "<span style=\"None\">Running query in &#x27;sqlite:///library.db&#x27;</span>"
      ],
      "text/plain": [
       "Running query in 'sqlite:///library.db'"
      ]
     },
     "metadata": {},
     "output_type": "display_data"
    },
    {
     "data": {
      "text/html": [
       "<span style=\"color: green\">10 rows affected.</span>"
      ],
      "text/plain": [
       "10 rows affected."
      ]
     },
     "metadata": {},
     "output_type": "display_data"
    },
    {
     "data": {
      "text/html": [
       "<table>\n",
       "    <thead>\n",
       "        <tr>\n",
       "        </tr>\n",
       "    </thead>\n",
       "    <tbody>\n",
       "    </tbody>\n",
       "</table>"
      ],
      "text/plain": [
       "++\n",
       "||\n",
       "++\n",
       "++"
      ]
     },
     "execution_count": 55,
     "metadata": {},
     "output_type": "execute_result"
    }
   ],
   "source": [
    "%%sql\n",
    "INSERT INTO Fine (FineID, Amount, Status)\n",
    "VALUES\n",
    "    (301, 10.00, 'Unpaid'),\n",
    "    (302, 0.00, 'Paid'),\n",
    "    (303, 5.00, 'Unpaid'),\n",
    "    (304, 0.00, 'Paid'),\n",
    "    (305, 0.00, 'Paid'),\n",
    "    (306, 0.00, 'Paid'),\n",
    "    (307, 3.00, 'Unpaid'),\n",
    "    (308, 0.00, 'Paid'),\n",
    "    (309, 8.00, 'Unpaid'),\n",
    "    (310, 0.00, 'Paid');"
   ]
  },
  {
   "cell_type": "code",
   "execution_count": 57,
   "id": "17743064-4a08-4220-90f4-8adc0c3d538e",
   "metadata": {},
   "outputs": [
    {
     "data": {
      "text/html": [
       "<span style=\"None\">Running query in &#x27;sqlite:///library.db&#x27;</span>"
      ],
      "text/plain": [
       "Running query in 'sqlite:///library.db'"
      ]
     },
     "metadata": {},
     "output_type": "display_data"
    },
    {
     "data": {
      "text/html": [
       "<span style=\"color: green\">10 rows affected.</span>"
      ],
      "text/plain": [
       "10 rows affected."
      ]
     },
     "metadata": {},
     "output_type": "display_data"
    },
    {
     "data": {
      "text/html": [
       "<table>\n",
       "    <thead>\n",
       "        <tr>\n",
       "        </tr>\n",
       "    </thead>\n",
       "    <tbody>\n",
       "    </tbody>\n",
       "</table>"
      ],
      "text/plain": [
       "++\n",
       "||\n",
       "++\n",
       "++"
      ]
     },
     "execution_count": 57,
     "metadata": {},
     "output_type": "execute_result"
    }
   ],
   "source": [
    "%%sql\n",
    "INSERT INTO IncurredBy (LoanID, FineID)\n",
    "VALUES\n",
    "    (301, 201),\n",
    "    (302, 202),\n",
    "    (303, 203),\n",
    "    (304, 204),\n",
    "    (305, 205),\n",
    "    (306, 206),\n",
    "    (307, 207),\n",
    "    (308, 208),\n",
    "    (309, 209),\n",
    "    (310, 210);"
   ]
  },
  {
   "cell_type": "code",
   "execution_count": 59,
   "id": "34b8fc45-2b65-488e-8de6-be1f79a6a1ab",
   "metadata": {},
   "outputs": [
    {
     "data": {
      "text/html": [
       "<span style=\"None\">Running query in &#x27;sqlite:///library.db&#x27;</span>"
      ],
      "text/plain": [
       "Running query in 'sqlite:///library.db'"
      ]
     },
     "metadata": {},
     "output_type": "display_data"
    },
    {
     "data": {
      "text/html": [
       "<span style=\"color: green\">10 rows affected.</span>"
      ],
      "text/plain": [
       "10 rows affected."
      ]
     },
     "metadata": {},
     "output_type": "display_data"
    },
    {
     "data": {
      "text/html": [
       "<table>\n",
       "    <thead>\n",
       "        <tr>\n",
       "        </tr>\n",
       "    </thead>\n",
       "    <tbody>\n",
       "    </tbody>\n",
       "</table>"
      ],
      "text/plain": [
       "++\n",
       "||\n",
       "++\n",
       "++"
      ]
     },
     "execution_count": 59,
     "metadata": {},
     "output_type": "execute_result"
    }
   ],
   "source": [
    "%%sql\n",
    "INSERT INTO Event (EventID, Type)\n",
    "VALUES\n",
    "    (401, 'Book Club'),\n",
    "    (402, 'Film Screening'),\n",
    "    (403, 'Art Show'),\n",
    "    (404, 'Tech Talk'),\n",
    "    (405, 'Cooking Class'),\n",
    "    (406, 'History Lecture'),\n",
    "    (407, 'Science Seminar'),\n",
    "    (408, 'Music Concert'),\n",
    "    (409, 'Poetry Reading'),\n",
    "    (410, 'Children Storytime');"
   ]
  },
  {
   "cell_type": "code",
   "execution_count": 61,
   "id": "906d3df8-1e13-425c-99fb-2781ba3ec451",
   "metadata": {},
   "outputs": [
    {
     "data": {
      "text/html": [
       "<span style=\"None\">Running query in &#x27;sqlite:///library.db&#x27;</span>"
      ],
      "text/plain": [
       "Running query in 'sqlite:///library.db'"
      ]
     },
     "metadata": {},
     "output_type": "display_data"
    },
    {
     "data": {
      "text/html": [
       "<span style=\"color: green\">10 rows affected.</span>"
      ],
      "text/plain": [
       "10 rows affected."
      ]
     },
     "metadata": {},
     "output_type": "display_data"
    },
    {
     "data": {
      "text/html": [
       "<table>\n",
       "    <thead>\n",
       "        <tr>\n",
       "        </tr>\n",
       "    </thead>\n",
       "    <tbody>\n",
       "    </tbody>\n",
       "</table>"
      ],
      "text/plain": [
       "++\n",
       "||\n",
       "++\n",
       "++"
      ]
     },
     "execution_count": 61,
     "metadata": {},
     "output_type": "execute_result"
    }
   ],
   "source": [
    "%%sql\n",
    "INSERT INTO Room (RoomID, Capacity)\n",
    "VALUES\n",
    "    (501, 30),\n",
    "    (502, 50),\n",
    "    (503, 40),\n",
    "    (504, 25),\n",
    "    (505, 20),\n",
    "    (506, 60),\n",
    "    (507, 15),\n",
    "    (508, 35),\n",
    "    (509, 45),\n",
    "    (510, 55);"
   ]
  },
  {
   "cell_type": "code",
   "execution_count": 63,
   "id": "bea23126-f14c-4b88-866f-a1581092bc6a",
   "metadata": {},
   "outputs": [
    {
     "data": {
      "text/html": [
       "<span style=\"None\">Running query in &#x27;sqlite:///library.db&#x27;</span>"
      ],
      "text/plain": [
       "Running query in 'sqlite:///library.db'"
      ]
     },
     "metadata": {},
     "output_type": "display_data"
    },
    {
     "data": {
      "text/html": [
       "<span style=\"color: green\">10 rows affected.</span>"
      ],
      "text/plain": [
       "10 rows affected."
      ]
     },
     "metadata": {},
     "output_type": "display_data"
    },
    {
     "data": {
      "text/html": [
       "<table>\n",
       "    <thead>\n",
       "        <tr>\n",
       "        </tr>\n",
       "    </thead>\n",
       "    <tbody>\n",
       "    </tbody>\n",
       "</table>"
      ],
      "text/plain": [
       "++\n",
       "||\n",
       "++\n",
       "++"
      ]
     },
     "execution_count": 63,
     "metadata": {},
     "output_type": "execute_result"
    }
   ],
   "source": [
    "%%sql\n",
    "INSERT INTO Uses (EventID, roomID)\n",
    "VALUES\n",
    "    (401, 501),\n",
    "    (402, 502),\n",
    "    (403, 503),\n",
    "    (404, 504),\n",
    "    (405, 505),\n",
    "    (406, 506),\n",
    "    (407, 507),\n",
    "    (408, 508),\n",
    "    (409, 509),\n",
    "    (410, 510);\n"
   ]
  },
  {
   "cell_type": "code",
   "execution_count": 65,
   "id": "a2e39a76-c438-4d3e-a6a3-8b6b68cab893",
   "metadata": {},
   "outputs": [
    {
     "data": {
      "text/html": [
       "<span style=\"None\">Running query in &#x27;sqlite:///library.db&#x27;</span>"
      ],
      "text/plain": [
       "Running query in 'sqlite:///library.db'"
      ]
     },
     "metadata": {},
     "output_type": "display_data"
    },
    {
     "data": {
      "text/html": [
       "<span style=\"color: green\">10 rows affected.</span>"
      ],
      "text/plain": [
       "10 rows affected."
      ]
     },
     "metadata": {},
     "output_type": "display_data"
    },
    {
     "data": {
      "text/html": [
       "<table>\n",
       "    <thead>\n",
       "        <tr>\n",
       "        </tr>\n",
       "    </thead>\n",
       "    <tbody>\n",
       "    </tbody>\n",
       "</table>"
      ],
      "text/plain": [
       "++\n",
       "||\n",
       "++\n",
       "++"
      ]
     },
     "execution_count": 65,
     "metadata": {},
     "output_type": "execute_result"
    }
   ],
   "source": [
    "%%sql\n",
    "INSERT INTO Attends (userID, EventID)\n",
    "VALUES\n",
    "    (1, 401),\n",
    "    (2, 401),\n",
    "    (3, 402),\n",
    "    (4, 403),\n",
    "    (5, 401),\n",
    "    (6, 403),\n",
    "    (7, 402),\n",
    "    (8, 401),\n",
    "    (9, 403),\n",
    "    (10, 401);\n"
   ]
  },
  {
   "cell_type": "code",
   "execution_count": 67,
   "id": "be53db7d-4c48-4ffe-b1f2-a43acc30c275",
   "metadata": {},
   "outputs": [
    {
     "data": {
      "text/html": [
       "<span style=\"None\">Running query in &#x27;sqlite:///library.db&#x27;</span>"
      ],
      "text/plain": [
       "Running query in 'sqlite:///library.db'"
      ]
     },
     "metadata": {},
     "output_type": "display_data"
    },
    {
     "data": {
      "text/html": [
       "<span style=\"color: green\">10 rows affected.</span>"
      ],
      "text/plain": [
       "10 rows affected."
      ]
     },
     "metadata": {},
     "output_type": "display_data"
    },
    {
     "data": {
      "text/html": [
       "<table>\n",
       "    <thead>\n",
       "        <tr>\n",
       "        </tr>\n",
       "    </thead>\n",
       "    <tbody>\n",
       "    </tbody>\n",
       "</table>"
      ],
      "text/plain": [
       "++\n",
       "||\n",
       "++\n",
       "++"
      ]
     },
     "execution_count": 67,
     "metadata": {},
     "output_type": "execute_result"
    }
   ],
   "source": [
    "%%sql\n",
    "INSERT INTO Personnel (staffID, name, position, salary)\n",
    "VALUES\n",
    "    (601, 'Alice Zhang', 'Librarian', 52000.00),\n",
    "    (602, 'Bob Lee', 'Event Manager', 58000.00),\n",
    "    (603, 'Carol Wang', 'Event Manager', 50000.00),\n",
    "    (604, 'David Kim', 'Technician', 47000.00),\n",
    "    (605, 'Eve Liu', 'Assistant Librarian', 42000.00),\n",
    "    (606, 'Frank Chen', 'IT Support', 54000.00),\n",
    "    (607, 'Grace Huang', 'Head Librarian', 68000.00),\n",
    "    (608, 'Henry Zhao', 'Security Officer', 40000.00),\n",
    "    (609, 'Ivy Xu', 'Cataloging Specialist', 49000.00),\n",
    "    (610, 'Jack Ma', 'Volunteer Coordinator', 45000.00);\n"
   ]
  },
  {
   "cell_type": "code",
   "execution_count": 69,
   "id": "258e10c6-bcc0-4a4f-9379-b910f286c326",
   "metadata": {},
   "outputs": [
    {
     "data": {
      "text/html": [
       "<span style=\"None\">Running query in &#x27;sqlite:///library.db&#x27;</span>"
      ],
      "text/plain": [
       "Running query in 'sqlite:///library.db'"
      ]
     },
     "metadata": {},
     "output_type": "display_data"
    },
    {
     "data": {
      "text/html": [
       "<span style=\"color: green\">10 rows affected.</span>"
      ],
      "text/plain": [
       "10 rows affected."
      ]
     },
     "metadata": {},
     "output_type": "display_data"
    },
    {
     "data": {
      "text/html": [
       "<table>\n",
       "    <thead>\n",
       "        <tr>\n",
       "        </tr>\n",
       "    </thead>\n",
       "    <tbody>\n",
       "    </tbody>\n",
       "</table>"
      ],
      "text/plain": [
       "++\n",
       "||\n",
       "++\n",
       "++"
      ]
     },
     "execution_count": 69,
     "metadata": {},
     "output_type": "execute_result"
    }
   ],
   "source": [
    "%%sql\n",
    "INSERT INTO Manages (staffID, EventID)\n",
    "VALUES\n",
    "    (602, 401),\n",
    "    (603, 402),\n",
    "    (602, 403),\n",
    "    (603, 404),\n",
    "    (602, 405),\n",
    "    (603, 406),\n",
    "    (602, 407),\n",
    "    (603, 408),\n",
    "    (602, 409),\n",
    "    (603, 410);\n"
   ]
  },
  {
   "cell_type": "code",
   "execution_count": 71,
   "id": "f78ba0b2-114f-4770-aaff-cebc5846e07d",
   "metadata": {},
   "outputs": [
    {
     "data": {
      "text/html": [
       "<span style=\"None\">Running query in &#x27;sqlite:///library.db&#x27;</span>"
      ],
      "text/plain": [
       "Running query in 'sqlite:///library.db'"
      ]
     },
     "metadata": {},
     "output_type": "display_data"
    },
    {
     "data": {
      "text/html": [
       "<span style=\"color: green\">10 rows affected.</span>"
      ],
      "text/plain": [
       "10 rows affected."
      ]
     },
     "metadata": {},
     "output_type": "display_data"
    },
    {
     "data": {
      "text/html": [
       "<table>\n",
       "    <thead>\n",
       "        <tr>\n",
       "        </tr>\n",
       "    </thead>\n",
       "    <tbody>\n",
       "    </tbody>\n",
       "</table>"
      ],
      "text/plain": [
       "++\n",
       "||\n",
       "++\n",
       "++"
      ]
     },
     "execution_count": 71,
     "metadata": {},
     "output_type": "execute_result"
    }
   ],
   "source": [
    "%%sql\n",
    "INSERT INTO NotificationQueue (userID, eventID, message)\n",
    "VALUES\n",
    "    (1, 401, 'You may be interested in this event. Would you like to come?'),\n",
    "    (2, 401, 'You may be interested in this event. Would you like to come?'),\n",
    "    (3, 402, 'You may be interested in this event. Would you like to come?'),\n",
    "    (4, 403, 'You may be interested in this event. Would you like to come?'),\n",
    "    (5, 401, 'You may be interested in this event. Would you like to come?'),\n",
    "    (6, 403, 'You may be interested in this event. Would you like to come?'),\n",
    "    (7, 402, 'You may be interested in this event. Would you like to come?'),\n",
    "    (8, 401, 'You may be interested in this event. Would you like to come?'),\n",
    "    (9, 403, 'You may be interested in this event. Would you like to come?'),\n",
    "    (10, 401, 'You may be interested in this event. Would you like to come?');\n"
   ]
  },
  {
   "cell_type": "code",
   "execution_count": 43,
   "id": "34fcb460-d163-444d-ad83-71018fa0d273",
   "metadata": {},
   "outputs": [
    {
     "data": {
      "text/html": [
       "<span style=\"None\">Running query in &#x27;sqlite:///library.db&#x27;</span>"
      ],
      "text/plain": [
       "Running query in 'sqlite:///library.db'"
      ]
     },
     "metadata": {},
     "output_type": "display_data"
    },
    {
     "data": {
      "text/html": [
       "<span style=\"color: green\">10 rows affected.</span>"
      ],
      "text/plain": [
       "10 rows affected."
      ]
     },
     "metadata": {},
     "output_type": "display_data"
    },
    {
     "data": {
      "text/html": [
       "<table>\n",
       "    <thead>\n",
       "        <tr>\n",
       "        </tr>\n",
       "    </thead>\n",
       "    <tbody>\n",
       "    </tbody>\n",
       "</table>"
      ],
      "text/plain": [
       "++\n",
       "||\n",
       "++\n",
       "++"
      ]
     },
     "execution_count": 43,
     "metadata": {},
     "output_type": "execute_result"
    }
   ],
   "source": [
    "%%sql\n",
    "INSERT INTO HelpRequests (requestID, email, message)\n",
    "VALUES\n",
    "    (801, 'alice.brown@example.com', 'I have a problem with my account.'),\n",
    "    (802, 'bob.smith@example.com', 'I have a problem with my password.'),\n",
    "    (803, 'carol.jones@example.com', 'I have a problem with overdue books.'),\n",
    "    (804, 'dave.wilson@example.com', 'I have a problem with the loan system.'),\n",
    "    (805, 'eve.davis@example.com', 'I have a problem with event registration.'),\n",
    "    (806, 'frank.miller@example.com', 'I have a problem with receiving notifications.'),\n",
    "    (807, 'grace.lee@example.com', 'I have a problem with accessing online items.'),\n",
    "    (808, 'henry.taylor@example.com', 'I have a problem with CD borrowing.'),\n",
    "    (809, 'ivy.anderson@example.com', 'I have a problem with my fines.'),\n",
    "    (810, 'jack.thomas@example.com', 'I have a problem with room reservations.');\n"
   ]
  },
  {
   "cell_type": "code",
   "execution_count": 75,
   "id": "1d7a6e0e-245b-4462-98e7-22d410911549",
   "metadata": {},
   "outputs": [
    {
     "data": {
      "text/html": [
       "<span style=\"None\">Running query in &#x27;sqlite:///library.db&#x27;</span>"
      ],
      "text/plain": [
       "Running query in 'sqlite:///library.db'"
      ]
     },
     "metadata": {},
     "output_type": "display_data"
    },
    {
     "data": {
      "text/html": [
       "<span style=\"color: green\">10 rows affected.</span>"
      ],
      "text/plain": [
       "10 rows affected."
      ]
     },
     "metadata": {},
     "output_type": "display_data"
    },
    {
     "data": {
      "text/html": [
       "<table>\n",
       "    <thead>\n",
       "        <tr>\n",
       "        </tr>\n",
       "    </thead>\n",
       "    <tbody>\n",
       "    </tbody>\n",
       "</table>"
      ],
      "text/plain": [
       "++\n",
       "||\n",
       "++\n",
       "++"
      ]
     },
     "execution_count": 75,
     "metadata": {},
     "output_type": "execute_result"
    }
   ],
   "source": [
    "%%sql\n",
    "INSERT INTO Request(RequestID, UserID, StaffID)\n",
    "VALUES\n",
    "    (801, 1, 602),\n",
    "    (802, 2, 604),\n",
    "    (803, 3, 608),\n",
    "    (804, 4, 602),\n",
    "    (805, 5, 602),\n",
    "    (806, 6, 604),\n",
    "    (807, 7, 604),\n",
    "    (808, 8, 608),\n",
    "    (809, 9, 608),\n",
    "    (810, 10, 602);"
   ]
  },
  {
   "cell_type": "markdown",
   "id": "0e417049-2a4f-45da-94d0-ef87559702c4",
   "metadata": {},
   "source": [
    "**TRIGGER**"
   ]
  },
  {
   "cell_type": "code",
   "execution_count": 78,
   "id": "70f8cc0f-4336-4d1d-85a5-f0bbf252feb5",
   "metadata": {},
   "outputs": [
    {
     "data": {
      "text/html": [
       "<span style=\"None\">Running query in &#x27;sqlite:///library.db&#x27;</span>"
      ],
      "text/plain": [
       "Running query in 'sqlite:///library.db'"
      ]
     },
     "metadata": {},
     "output_type": "display_data"
    },
    {
     "data": {
      "text/html": [
       "<table>\n",
       "    <thead>\n",
       "        <tr>\n",
       "        </tr>\n",
       "    </thead>\n",
       "    <tbody>\n",
       "    </tbody>\n",
       "</table>"
      ],
      "text/plain": [
       "++\n",
       "||\n",
       "++\n",
       "++"
      ]
     },
     "execution_count": 78,
     "metadata": {},
     "output_type": "execute_result"
    }
   ],
   "source": [
    "%%sql\n",
    "CREATE TRIGGER update_item_status_on_borrow\n",
    "AFTER INSERT ON Loan\n",
    "FOR EACH ROW\n",
    "BEGIN\n",
    "    UPDATE Item\n",
    "    SET status = 'borrowed'\n",
    "    WHERE ItemID = NEW.ItemID;\n",
    "END;\n"
   ]
  },
  {
   "cell_type": "code",
   "execution_count": 80,
   "id": "385a12af-d204-4203-877c-1e41632a1f43",
   "metadata": {},
   "outputs": [
    {
     "data": {
      "text/html": [
       "<span style=\"None\">Running query in &#x27;sqlite:///library.db&#x27;</span>"
      ],
      "text/plain": [
       "Running query in 'sqlite:///library.db'"
      ]
     },
     "metadata": {},
     "output_type": "display_data"
    },
    {
     "data": {
      "text/html": [
       "<table>\n",
       "    <thead>\n",
       "        <tr>\n",
       "        </tr>\n",
       "    </thead>\n",
       "    <tbody>\n",
       "    </tbody>\n",
       "</table>"
      ],
      "text/plain": [
       "++\n",
       "||\n",
       "++\n",
       "++"
      ]
     },
     "execution_count": 80,
     "metadata": {},
     "output_type": "execute_result"
    }
   ],
   "source": [
    "%%sql\n",
    "CREATE TRIGGER update_item_status_on_return\n",
    "AFTER DELETE ON Loan\n",
    "FOR EACH ROW\n",
    "BEGIN\n",
    "    UPDATE Item\n",
    "    SET status = 'available'\n",
    "    WHERE ItemID = OLD.ItemID;\n",
    "END;\n"
   ]
  },
  {
   "cell_type": "code",
   "execution_count": 82,
   "id": "66f350a6-b1b1-4c4f-9646-7db9e2753057",
   "metadata": {},
   "outputs": [
    {
     "data": {
      "text/html": [
       "<span style=\"None\">Running query in &#x27;sqlite:///library.db&#x27;</span>"
      ],
      "text/plain": [
       "Running query in 'sqlite:///library.db'"
      ]
     },
     "metadata": {},
     "output_type": "display_data"
    },
    {
     "data": {
      "text/html": [
       "<table>\n",
       "    <thead>\n",
       "        <tr>\n",
       "        </tr>\n",
       "    </thead>\n",
       "    <tbody>\n",
       "    </tbody>\n",
       "</table>"
      ],
      "text/plain": [
       "++\n",
       "||\n",
       "++\n",
       "++"
      ]
     },
     "execution_count": 82,
     "metadata": {},
     "output_type": "execute_result"
    }
   ],
   "source": [
    "%%sql\n",
    "CREATE TRIGGER IF NOT EXISTS trigger_notify_users_on_new_event\n",
    "AFTER INSERT ON Event\n",
    "FOR EACH ROW\n",
    "BEGIN\n",
    "    INSERT INTO NotificationQueue (userID, eventID, email, message)\n",
    "    SELECT \n",
    "        userID,\n",
    "        NEW.EventID,\n",
    "        email,\n",
    "        'Hi! Here is a new event you might like has been posted: ' || NEW.type\n",
    "    FROM User\n",
    "    WHERE preference = NEW.type;\n",
    "END;\n"
   ]
  },
  {
   "cell_type": "code",
   "execution_count": 84,
   "id": "c599a153-84e6-4552-a320-8c476a4d9977",
   "metadata": {},
   "outputs": [
    {
     "data": {
      "text/html": [
       "<span style=\"None\">Running query in &#x27;sqlite:///library.db&#x27;</span>"
      ],
      "text/plain": [
       "Running query in 'sqlite:///library.db'"
      ]
     },
     "metadata": {},
     "output_type": "display_data"
    },
    {
     "data": {
      "text/html": [
       "<table>\n",
       "    <thead>\n",
       "        <tr>\n",
       "        </tr>\n",
       "    </thead>\n",
       "    <tbody>\n",
       "    </tbody>\n",
       "</table>"
      ],
      "text/plain": [
       "++\n",
       "||\n",
       "++\n",
       "++"
      ]
     },
     "execution_count": 84,
     "metadata": {},
     "output_type": "execute_result"
    }
   ],
   "source": [
    "%%sql\n",
    "CREATE TRIGGER prevent_borrow_if_unavailable\n",
    "BEFORE INSERT ON Loan\n",
    "FOR EACH ROW\n",
    "BEGIN\n",
    "    SELECT \n",
    "    CASE\n",
    "        WHEN (SELECT status FROM Item WHERE ItemID = NEW.ItemID) = 'borrowed'\n",
    "        THEN RAISE(ABORT, 'This item is already borrowed.')\n",
    "    END;\n",
    "END;\n"
   ]
  },
  {
   "cell_type": "code",
   "execution_count": 86,
   "id": "51b17eac-7394-41b2-9bd5-cafa26027e03",
   "metadata": {},
   "outputs": [
    {
     "data": {
      "text/html": [
       "<span style=\"None\">Running query in &#x27;sqlite:///library.db&#x27;</span>"
      ],
      "text/plain": [
       "Running query in 'sqlite:///library.db'"
      ]
     },
     "metadata": {},
     "output_type": "display_data"
    },
    {
     "data": {
      "text/html": [
       "<table>\n",
       "    <thead>\n",
       "        <tr>\n",
       "        </tr>\n",
       "    </thead>\n",
       "    <tbody>\n",
       "    </tbody>\n",
       "</table>"
      ],
      "text/plain": [
       "++\n",
       "||\n",
       "++\n",
       "++"
      ]
     },
     "execution_count": 86,
     "metadata": {},
     "output_type": "execute_result"
    }
   ],
   "source": [
    "%%sql\n",
    "CREATE TRIGGER cd_check_item_trigger\n",
    "BEFORE INSERT ON CD\n",
    "FOR EACH ROW\n",
    "BEGIN\n",
    "    SELECT \n",
    "    CASE\n",
    "        WHEN (SELECT COUNT(*) FROM Item WHERE ItemID = NEW.ItemID) = 0\n",
    "        THEN\n",
    "            RAISE(ABORT, 'Cannot insert CD: corresponding ItemID does not exist in Item table')\n",
    "    END;\n",
    "END;\n"
   ]
  },
  {
   "cell_type": "code",
   "execution_count": 5,
   "id": "3858f0ac-eb2d-4494-9c45-c30fb5dd384e",
   "metadata": {},
   "outputs": [
    {
     "data": {
      "text/html": [
       "<span style=\"None\">Running query in &#x27;sqlite:///library.db&#x27;</span>"
      ],
      "text/plain": [
       "Running query in 'sqlite:///library.db'"
      ]
     },
     "metadata": {},
     "output_type": "display_data"
    },
    {
     "data": {
      "text/html": [
       "<table>\n",
       "    <thead>\n",
       "        <tr>\n",
       "        </tr>\n",
       "    </thead>\n",
       "    <tbody>\n",
       "    </tbody>\n",
       "</table>"
      ],
      "text/plain": [
       "++\n",
       "||\n",
       "++\n",
       "++"
      ]
     },
     "execution_count": 5,
     "metadata": {},
     "output_type": "execute_result"
    }
   ],
   "source": [
    "%%sql\n",
    "CREATE TRIGGER OnlineItem_check_item_trigger\n",
    "BEFORE INSERT ON OnlineItem\n",
    "FOR EACH ROW\n",
    "BEGIN\n",
    "    SELECT \n",
    "    CASE\n",
    "        WHEN (SELECT COUNT(*) FROM Item WHERE ItemID = NEW.ItemID) = 0\n",
    "        THEN\n",
    "            RAISE(ABORT, 'Cannot insert Online Item: corresponding ItemID does not exist in Item table')\n",
    "    END;\n",
    "END;"
   ]
  },
  {
   "cell_type": "code",
   "execution_count": null,
   "id": "82c9937d-9103-475c-a407-d0713cee1a47",
   "metadata": {},
   "outputs": [],
   "source": []
  },
  {
   "cell_type": "code",
   "execution_count": null,
   "id": "0a52ba86-1b59-4e84-89c3-4acc0c0e8296",
   "metadata": {},
   "outputs": [],
   "source": []
  }
 ],
 "metadata": {
  "kernelspec": {
   "display_name": "Python [conda env:base] *",
   "language": "python",
   "name": "conda-base-py"
  },
  "language_info": {
   "codemirror_mode": {
    "name": "ipython",
    "version": 3
   },
   "file_extension": ".py",
   "mimetype": "text/x-python",
   "name": "python",
   "nbconvert_exporter": "python",
   "pygments_lexer": "ipython3",
   "version": "3.12.2"
  }
 },
 "nbformat": 4,
 "nbformat_minor": 5
}
